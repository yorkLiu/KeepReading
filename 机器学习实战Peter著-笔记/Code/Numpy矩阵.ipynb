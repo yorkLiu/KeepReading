{
 "cells": [
  {
   "cell_type": "markdown",
   "metadata": {},
   "source": [
    "## Numpy 矩阵\n",
    "\n",
    "* mat 函数 (将数组转换成矩阵)\n",
    "* I 属性: 矩阵求逆运算\n",
    "* T 属性: 矩阵\"转置\"\n",
    "* eye(n): 创建 n * n 的单位(对角)矩阵"
   ]
  },
  {
   "cell_type": "code",
   "execution_count": 1,
   "metadata": {
    "collapsed": true
   },
   "outputs": [],
   "source": [
    "import numpy as np"
   ]
  },
  {
   "cell_type": "code",
   "execution_count": 3,
   "metadata": {},
   "outputs": [
    {
     "data": {
      "text/plain": [
       "array([[0.57486522, 0.84712587, 0.8877264 , 0.30747157],\n",
       "       [0.23072121, 0.42057232, 0.18089633, 0.47296725],\n",
       "       [0.54067182, 0.96651208, 0.11704529, 0.27078143],\n",
       "       [0.33898313, 0.76155354, 0.31972605, 0.4480029 ]])"
      ]
     },
     "execution_count": 3,
     "metadata": {},
     "output_type": "execute_result"
    }
   ],
   "source": [
    "np.random.rand(4,4)"
   ]
  },
  {
   "cell_type": "code",
   "execution_count": 7,
   "metadata": {},
   "outputs": [
    {
     "name": "stdout",
     "output_type": "stream",
     "text": [
      "[[0.61711929 0.12566212 0.89550619 0.033981  ]\n",
      " [0.42390697 0.67349679 0.59741568 0.54741123]\n",
      " [0.3843519  0.19956617 0.16884512 0.37398733]\n",
      " [0.46323716 0.57384279 0.69539504 0.76076181]]\n",
      "<class 'numpy.matrixlib.defmatrix.matrix'>\n"
     ]
    }
   ],
   "source": [
    "randMat = np.mat(np.random.rand(4,4))\n",
    "print(randMat)\n",
    "print type(randMat)"
   ]
  },
  {
   "cell_type": "code",
   "execution_count": 8,
   "metadata": {},
   "outputs": [
    {
     "name": "stdout",
     "output_type": "stream",
     "text": [
      "[[ 0.61009068  0.88925649  3.54713193 -2.41087667]\n",
      " [-0.50799843  3.92607603 -0.33612316 -2.63710665]\n",
      " [ 0.79466038 -1.06785711 -2.40846548  1.91688015]\n",
      " [-0.7146893  -2.52681527  0.29516923  3.01947777]]\n"
     ]
    }
   ],
   "source": [
    "print randMat.I"
   ]
  },
  {
   "cell_type": "code",
   "execution_count": 9,
   "metadata": {},
   "outputs": [
    {
     "name": "stdout",
     "output_type": "stream",
     "text": [
      "[[0.61711929 0.42390697 0.3843519  0.46323716]\n",
      " [0.12566212 0.67349679 0.19956617 0.57384279]\n",
      " [0.89550619 0.59741568 0.16884512 0.69539504]\n",
      " [0.033981   0.54741123 0.37398733 0.76076181]]\n"
     ]
    }
   ],
   "source": [
    "print randMat.T"
   ]
  },
  {
   "cell_type": "code",
   "execution_count": 10,
   "metadata": {},
   "outputs": [
    {
     "name": "stdout",
     "output_type": "stream",
     "text": [
      "[[1. 0. 0. 0.]\n",
      " [0. 1. 0. 0.]\n",
      " [0. 0. 1. 0.]\n",
      " [0. 0. 0. 1.]]\n"
     ]
    }
   ],
   "source": [
    "print np.eye(4)"
   ]
  },
  {
   "cell_type": "code",
   "execution_count": 11,
   "metadata": {},
   "outputs": [
    {
     "data": {
      "text/plain": [
       "matrix([[ 1.00000000e+00,  0.00000000e+00,  0.00000000e+00,\n",
       "          0.00000000e+00],\n",
       "        [ 0.00000000e+00,  1.00000000e+00, -2.22044605e-16,\n",
       "         -4.44089210e-16],\n",
       "        [-2.77555756e-17,  2.22044605e-16,  1.00000000e+00,\n",
       "          0.00000000e+00],\n",
       "        [ 0.00000000e+00,  0.00000000e+00,  0.00000000e+00,\n",
       "          1.00000000e+00]])"
      ]
     },
     "execution_count": 11,
     "metadata": {},
     "output_type": "execute_result"
    }
   ],
   "source": [
    "randMat * randMat.I"
   ]
  },
  {
   "cell_type": "code",
   "execution_count": null,
   "metadata": {
    "collapsed": true
   },
   "outputs": [],
   "source": []
  }
 ],
 "metadata": {
  "kernelspec": {
   "display_name": "Python 2",
   "language": "python",
   "name": "python2"
  },
  "language_info": {
   "codemirror_mode": {
    "name": "ipython",
    "version": 2
   },
   "file_extension": ".py",
   "mimetype": "text/x-python",
   "name": "python",
   "nbconvert_exporter": "python",
   "pygments_lexer": "ipython2",
   "version": "2.7.13"
  }
 },
 "nbformat": 4,
 "nbformat_minor": 2
}
