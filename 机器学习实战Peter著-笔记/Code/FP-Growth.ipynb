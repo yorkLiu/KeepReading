{
 "cells": [
  {
   "cell_type": "markdown",
   "metadata": {},
   "source": [
    "# FP-Growth\n",
    "\n",
    "FP-Growth（Frequent Pattern Growth， 频繁模式增长），它比Apriori算法效率更高，在整个算法执行过程中，只需要遍历数据集2次，就可完成频繁模式的发现\n",
    "\n",
    "FP-growth算法基于Apriori构建，但采用了高级的数据结构减少扫描次数，大大加快了算法速度。FP-growth算法只需要对数据库进行两次扫描，而Apriori算法对于每个潜在的频繁项集都会扫描数据集判定给定模式是否频繁，因此FP-growth算法的速度要比Apriori算法快。\n",
    "\n",
    "FP-growth算法发现频繁项集的基本过程如下：\n",
    "- 构建FP树\n",
    "- 从FP树中挖掘频繁项集\n",
    "\n",
    "> FP-growth算法\n",
    "  * 优点：一般要快于Apriori。\n",
    "  * 缺点：实现比较困难，在某些数据集上性能会下降。\n",
    "  * 适用数据类型：离散型数据。\n",
    "\n",
    " "
   ]
  },
  {
   "cell_type": "markdown",
   "metadata": {},
   "source": [
    "### 1.  创建FP树的数据结构"
   ]
  },
  {
   "cell_type": "code",
   "execution_count": 1,
   "metadata": {
    "collapsed": true
   },
   "outputs": [],
   "source": [
    "class treeNode:\n",
    "    def __init__(self, nameValue, numOccur, parentNode=None):\n",
    "        self.name=nameValue\n",
    "        self.count=numOccur\n",
    "        self.nodeLink=None\n",
    "        self.parent = parentNode\n",
    "        self.children = {}\n",
    "        \n",
    "    def inc(self, numOccur):\n",
    "        self.count += numOccur\n",
    "        \n",
    "    def disp(self, ind=1):\n",
    "        print ' '*ind, self.name, ' ', self.count\n",
    "        for child in self.children.values():\n",
    "            child.disp(ind+1)"
   ]
  },
  {
   "cell_type": "markdown",
   "metadata": {},
   "source": [
    "每个树节点由五个数据项组成：\n",
    "- name：节点元素名称，在构造时初始化为给定值\n",
    "- count：出现次数，在构造时初始化为给定值\n",
    "- nodeLink：指向下一个相似节点的指针，默认为None\n",
    "- parent：指向父节点的指针，在构造时初始化为给定值\n",
    "- children：指向子节点的字典，以子节点的元素名称为键，指向子节点的指针为值，初始化为空字典\n",
    "\n",
    "成员函数：\n",
    "- inc()：增加节点的出现次数值\n",
    "- disp()：输出节点和子节点的FP树结构"
   ]
  },
  {
   "cell_type": "code",
   "execution_count": 2,
   "metadata": {
    "collapsed": true
   },
   "outputs": [],
   "source": [
    "rootNode = treeNode('pyramid', 9)"
   ]
  },
  {
   "cell_type": "code",
   "execution_count": 3,
   "metadata": {
    "collapsed": true
   },
   "outputs": [],
   "source": [
    "rootNode.children['eye'] = treeNode('eye', 13)"
   ]
  },
  {
   "cell_type": "code",
   "execution_count": 4,
   "metadata": {},
   "outputs": [
    {
     "name": "stdout",
     "output_type": "stream",
     "text": [
      "  pyramid   9\n",
      "   eye   13\n"
     ]
    }
   ],
   "source": [
    "rootNode.disp()"
   ]
  },
  {
   "cell_type": "code",
   "execution_count": 5,
   "metadata": {},
   "outputs": [
    {
     "name": "stdout",
     "output_type": "stream",
     "text": [
      "  pyramid   9\n",
      "   eye   13\n",
      "   phoenix   3\n"
     ]
    }
   ],
   "source": [
    "rootNode.children['phoenix']=treeNode('phoenix', 3)\n",
    "rootNode.disp()"
   ]
  },
  {
   "cell_type": "markdown",
   "metadata": {},
   "source": [
    "算法：构建FP树\n",
    "\n",
    "> 输入：数据集、最小值尺度\n",
    "> 输出：FP树、头指针表\n",
    "> 1. 遍历数据集，统计各元素项出现次数，创建头指针表\n",
    "> 2. 移除头指针表中不满足最小值尺度的元素项\n",
    "> 3. 第二次遍历数据集，创建FP树。对每个数据集中的项集：\n",
    ">     - 3.1 初始化空FP树\n",
    ">     - 3.2 对每个项集进行过滤和重排序\n",
    ">     - 3.3 使用这个项集更新FP树，从FP树的根节点开始：\n",
    ">         - 3.3.1 如果当前项集的第一个元素项存在于FP树当前节点的子节点中，则更新这个子节点的计数值\n",
    ">         - 3.3.2 否则，创建新的子节点，更新头指针表\n",
    ">         - 3.3.3 对当前项集的其余元素项和当前元素项的对应子节点递归3.3的过程"
   ]
  },
  {
   "cell_type": "code",
   "execution_count": 6,
   "metadata": {
    "collapsed": true
   },
   "outputs": [],
   "source": [
    "def createTree(dataSet, minSup=1):\n",
    "    ''' 创建FP树 '''\n",
    "    # 第一次遍历数据集，创建头指针表\n",
    "    headerTable = {}\n",
    "    for trans in dataSet:\n",
    "        for item in trans:\n",
    "            headerTable[item] = headerTable.get(item, 0) + dataSet[trans]\n",
    "    # 移除不满足最小支持度的元素项\n",
    "    for k in headerTable.keys():\n",
    "        if headerTable[k] < minSup:\n",
    "            del(headerTable[k])\n",
    "    # 空元素集，返回空\n",
    "    freqItemSet = set(headerTable.keys())\n",
    "    if len(freqItemSet) == 0:\n",
    "        return None, None\n",
    "    # 增加一个数据项，用于存放指向相似元素项指针\n",
    "    for k in headerTable:\n",
    "        headerTable[k] = [headerTable[k], None]\n",
    "    retTree = treeNode('Null Set', 1, None) # 根节点\n",
    "    # 第二次遍历数据集，创建FP树\n",
    "    for tranSet, count in dataSet.items():\n",
    "        localD = {} # 对一个项集tranSet，记录其中每个元素项的全局频率，用于排序\n",
    "        for item in tranSet:\n",
    "            if item in freqItemSet:\n",
    "                localD[item] = headerTable[item][0] # 注意这个[0]，因为之前加过一个数据项\n",
    "        if len(localD) > 0:\n",
    "            orderedItems = [v[0] for v in sorted(localD.items(), key=lambda p: p[1], reverse=True)] # 排序\n",
    "            updateTree(orderedItems, retTree, headerTable, count) # 更新FP树\n",
    "    return retTree, headerTable"
   ]
  },
  {
   "cell_type": "markdown",
   "metadata": {},
   "source": [
    "需要注意的是，参数中的dataSet的格式比较奇特，不是直觉上得集合的list，而是一个集合的字典，以这个集合为键，值部分记录的是这个集合出现的次数。于是要生成这个dataSet还需要后面的createInitSet()函数辅助。因此代码中第7行中的dataSet[trans]实际获得了这个trans集合的出现次数（在本例中均为1），同样第21行的“for tranSet, count in dataSet.items():”获得了tranSet和count分别表示一个项集和该项集的出现次数。——这样做是为了适应后面在挖掘频繁项集时生成的条件FP树。\n"
   ]
  },
  {
   "cell_type": "code",
   "execution_count": 7,
   "metadata": {
    "collapsed": true
   },
   "outputs": [],
   "source": [
    "def updateTree(items, inTree, headerTable, count):\n",
    "    if items[0] in inTree.children:\n",
    "        # 有该元素项时计数值+1\n",
    "        inTree.children[items[0]].inc(count)\n",
    "    else:\n",
    "        # 没有这个元素项时创建一个新节点\n",
    "        inTree.children[items[0]] = treeNode(items[0], count, inTree)\n",
    "        # 更新头指针表或前一个相似元素项节点的指针指向新节点\n",
    "        if headerTable[items[0]][1] == None:\n",
    "            headerTable[items[0]][1] = inTree.children[items[0]]\n",
    "        else:\n",
    "            updateHeader(headerTable[items[0]][1], inTree.children[items[0]])\n",
    " \n",
    "    if len(items) > 1:\n",
    "        # 对剩下的元素项迭代调用updateTree函数\n",
    "        updateTree(items[1::], inTree.children[items[0]], headerTable, count)"
   ]
  },
  {
   "cell_type": "markdown",
   "metadata": {},
   "source": [
    "为了让FP(Frequent Pattern)树 **生长**，需要调用 **updateTree**，其中输入参数为一个list。该函数首先测试事务中的第一个元素项是否作为子节点存在，如果存在，则更新该元素项的计数；如果不存在，则创建一个新的 **treeNode**并将其作为一个子节点添加到树中。这时，头指针表也要更新以指向新的节点。更新头指针表需要调用函数 **updateHeader**。**updateTree** 完成最后一件事是不断迭代调用自身，每次调用会去掉列表中的第一个元素。"
   ]
  },
  {
   "cell_type": "code",
   "execution_count": 8,
   "metadata": {
    "collapsed": true
   },
   "outputs": [],
   "source": [
    "def updateHeader(nodeToTest, targetNode):\n",
    "    while (nodeToTest.nodeLink != None):\n",
    "        nodeToTest = nodeToTest.nodeLink\n",
    "    nodeToTest.nodeLink = targetNode"
   ]
  },
  {
   "cell_type": "markdown",
   "metadata": {},
   "source": [
    "这个函数其实只做了一件事，就是获取头指针表中该元素项对应的单链表的尾节点，然后将其指向新节点targetNode。\n",
    "\n",
    "**updateHeader** 函数确保节点链接指向树中该元素项的每一个实例。从头指针表的nodeLink开始，一直源着nodeLink直到达到链表的末尾。这就是一个链表。当处理树的时候，和种很自然的反应就是迭代完成每一件事。当以相同方式处理链表时可能会遇到一些问题，原因是如果链表很长可能会遇到迭代用的次数限制。"
   ]
  },
  {
   "cell_type": "markdown",
   "metadata": {},
   "source": [
    "### 生成数据集"
   ]
  },
  {
   "cell_type": "code",
   "execution_count": 9,
   "metadata": {
    "collapsed": true
   },
   "outputs": [],
   "source": [
    "def loadSimpDat():\n",
    "    simpDat = [['r', 'z', 'h', 'j', 'p'],\n",
    "               ['z', 'y', 'x', 'w', 'v', 'u', 't', 's'],\n",
    "               ['z'],\n",
    "               ['r', 'x', 'n', 'o', 's'],\n",
    "               ['y', 'r', 'x', 'z', 'q', 't', 'p'],\n",
    "               ['y', 'z', 'x', 'e', 'q', 's', 't', 'm']]\n",
    "    return simpDat\n",
    " \n",
    "def createInitSet(dataSet):\n",
    "    retDict = {}\n",
    "    for trans in dataSet:\n",
    "        retDict[frozenset(trans)] = 1\n",
    "    return retDict"
   ]
  },
  {
   "cell_type": "code",
   "execution_count": 10,
   "metadata": {},
   "outputs": [
    {
     "data": {
      "text/plain": [
       "[['r', 'z', 'h', 'j', 'p'],\n",
       " ['z', 'y', 'x', 'w', 'v', 'u', 't', 's'],\n",
       " ['z'],\n",
       " ['r', 'x', 'n', 'o', 's'],\n",
       " ['y', 'r', 'x', 'z', 'q', 't', 'p'],\n",
       " ['y', 'z', 'x', 'e', 'q', 's', 't', 'm']]"
      ]
     },
     "execution_count": 10,
     "metadata": {},
     "output_type": "execute_result"
    }
   ],
   "source": [
    "simpleDat = loadSimpDat()\n",
    "simpleDat\n"
   ]
  },
  {
   "cell_type": "code",
   "execution_count": 11,
   "metadata": {},
   "outputs": [
    {
     "data": {
      "text/plain": [
       "{frozenset({'e', 'm', 'q', 's', 't', 'x', 'y', 'z'}): 1,\n",
       " frozenset({'n', 'o', 'r', 's', 'x'}): 1,\n",
       " frozenset({'z'}): 1,\n",
       " frozenset({'s', 't', 'u', 'v', 'w', 'x', 'y', 'z'}): 1,\n",
       " frozenset({'p', 'q', 'r', 't', 'x', 'y', 'z'}): 1,\n",
       " frozenset({'h', 'j', 'p', 'r', 'z'}): 1}"
      ]
     },
     "execution_count": 11,
     "metadata": {},
     "output_type": "execute_result"
    }
   ],
   "source": [
    "initSet = createInitSet(simpleDat)\n",
    "initSet"
   ]
  },
  {
   "cell_type": "code",
   "execution_count": 12,
   "metadata": {},
   "outputs": [
    {
     "name": "stdout",
     "output_type": "stream",
     "text": [
      "  Null Set   1\n",
      "   x   1\n",
      "    s   1\n",
      "     r   1\n",
      "      o   1\n",
      "       n   1\n",
      "   z   5\n",
      "    x   3\n",
      "     s   2\n",
      "      t   2\n",
      "       y   2\n",
      "        q   1\n",
      "         e   1\n",
      "          m   1\n",
      "        u   1\n",
      "         w   1\n",
      "          v   1\n",
      "     r   1\n",
      "      t   1\n",
      "       y   1\n",
      "        q   1\n",
      "         p   1\n",
      "    r   1\n",
      "     p   1\n",
      "      h   1\n",
      "       j   1\n"
     ]
    }
   ],
   "source": [
    "myFPTree, myHeaderTab = createTree(initSet)\n",
    "myFPTree.disp()"
   ]
  },
  {
   "cell_type": "markdown",
   "metadata": {},
   "source": [
    "上面给出的是元素及其对应的频率计数值，其中每个缩进表示所处树的深度。\n",
    "\n",
    "现在我们已经构建了FP树，接下来就使用它是行频繁项集挖掘\n",
    "\n",
    "**从FP树中抽取频繁项集的三个基本步骤如下:**\n",
    "\n",
    "    1. 利用条件模式基\n",
    "    2. 构建一个条件FP树；\n",
    "    3. 迭代重复步骤1步骤2，直到树包含一个元素项为止。"
   ]
  },
  {
   "cell_type": "code",
   "execution_count": 13,
   "metadata": {
    "collapsed": true
   },
   "outputs": [],
   "source": [
    "def findPrefixPath(basePat, treeNode):\n",
    "    ''' 创建前缀路径 '''\n",
    "    condPats = {}\n",
    "    while treeNode != None:\n",
    "        prefixPath = []\n",
    "        ascendTree(treeNode, prefixPath)\n",
    "        if len(prefixPath) > 1:\n",
    "            condPats[frozenset(prefixPath[1:])] = treeNode.count\n",
    "        treeNode = treeNode.nodeLink\n",
    "    return condPats"
   ]
  },
  {
   "cell_type": "markdown",
   "metadata": {},
   "source": [
    "该函数代码用于为给定元素项生成一个条件模式基（前缀路径），这通过访问树中所有包含给定元素项的节点来完成。参数basePet表示输入的频繁项，treeNode为当前FP树种对应的第一个节点（可在函数外部通过headerTable[basePat][1]获取）。函数返回值即为条件模式基condPats，用一个字典表示，键为前缀路径，值为计数值。"
   ]
  },
  {
   "cell_type": "code",
   "execution_count": 14,
   "metadata": {
    "collapsed": true
   },
   "outputs": [],
   "source": [
    "def ascendTree(leafNode, prefixPath):\n",
    "    if leafNode.parent != None:\n",
    "        prefixPath.append(leafNode.name)\n",
    "        ascendTree(leafNode.parent, prefixPath)"
   ]
  },
  {
   "cell_type": "markdown",
   "metadata": {},
   "source": [
    "这个函数直接修改prefixPath的值，将当前节点leafNode添加到prefixPath的末尾，然后递归添加其父节点。最终结果，prefixPath就是一条从treeNode（包括treeNode）到根节点（不包括根节点）的路径。在主函数findPrefixPath()中再取prefixPath[1:]，即为treeNode的前缀路径。"
   ]
  },
  {
   "cell_type": "code",
   "execution_count": 15,
   "metadata": {},
   "outputs": [
    {
     "data": {
      "text/plain": [
       "{frozenset({'x', 'z'}): 1, frozenset({'s', 'x'}): 1, frozenset({'z'}): 1}"
      ]
     },
     "execution_count": 15,
     "metadata": {},
     "output_type": "execute_result"
    }
   ],
   "source": [
    "findPrefixPath('x', myHeaderTab['x'][1])\n",
    "findPrefixPath('z', myHeaderTab['z'][1])\n",
    "findPrefixPath('r', myHeaderTab['r'][1])"
   ]
  },
  {
   "cell_type": "markdown",
   "metadata": {
    "collapsed": true
   },
   "source": [
    "## 递归查找频繁项集\n",
    "有了FP树和条件FP树，我们就可以在前两步的基础上递归得查找频繁项集。\n",
    "\n",
    "递归的过程是这样的：\n",
    "\n",
    "输入：我们有当前数据集的FP树（inTree，headerTable）\n",
    "1. 初始化一个空列表preFix表示前缀\n",
    "2. 初始化一个空列表freqItemList接收生成的频繁项集（作为输出）\n",
    "3. 对headerTable中的每个元素basePat（按计数值由小到大），递归：\n",
    "\n",
    "        3.1 记basePat + preFix为当前频繁项集newFreqSet\n",
    "        3.2 将newFreqSet添加到freqItemList中\n",
    "        3.3 计算t的条件FP树（myCondTree、myHead）\n",
    "        3.4 当条件FP树不为空时，继续下一步；否则退出递归\n",
    "        3.4 以myCondTree、myHead为新的输入，以newFreqSet为新的preFix，外加freqItemList，递归这个过程"
   ]
  },
  {
   "cell_type": "code",
   "execution_count": 16,
   "metadata": {
    "collapsed": true
   },
   "outputs": [],
   "source": [
    "def mineTree(inTree, headerTable, minSup, preFix, freqItemList):\n",
    "    bigL = [v[0] for v in sorted(headerTable.items(), key=lambda p: p[1])]\n",
    "    for basePat in bigL:\n",
    "        newFreqSet = preFix.copy()\n",
    "        newFreqSet.add(basePat)\n",
    "        freqItemList.append(newFreqSet)\n",
    "        condPattBases = findPrefixPath(basePat, headerTable[basePat][1])\n",
    "        myCondTree, myHead = createTree(condPattBases, minSup)\n",
    " \n",
    "        if myHead != None:\n",
    "            # 用于测试\n",
    "            print 'conditional tree for:', newFreqSet\n",
    "            myCondTree.disp()\n",
    " \n",
    "            mineTree(myCondTree, myHead, minSup, newFreqSet, freqItemList)"
   ]
  },
  {
   "cell_type": "markdown",
   "metadata": {},
   "source": [
    "**输入参数：**\n",
    "- inTree和headerTable是由createTree()函数生成的数据集的FP树\n",
    "- minSup表示最小支持度\n",
    "- preFix请传入一个空集合（set([])），将在函数中用于保存当前前缀\n",
    "- freqItemList请传入一个空列表（[]），将用来储存生成的频繁项集"
   ]
  },
  {
   "cell_type": "code",
   "execution_count": 19,
   "metadata": {},
   "outputs": [
    {
     "name": "stdout",
     "output_type": "stream",
     "text": [
      "conditional tree for: set(['s'])\n",
      "  Null Set   1\n",
      "   x   3\n",
      "conditional tree for: set(['t'])\n",
      "  Null Set   1\n",
      "   x   3\n",
      "    z   3\n",
      "conditional tree for: set(['z', 't'])\n",
      "  Null Set   1\n",
      "   x   3\n",
      "conditional tree for: set(['y'])\n",
      "  Null Set   1\n",
      "   x   3\n",
      "    z   3\n",
      "     t   3\n",
      "conditional tree for: set(['y', 'z'])\n",
      "  Null Set   1\n",
      "   x   3\n",
      "conditional tree for: set(['y', 't'])\n",
      "  Null Set   1\n",
      "   x   3\n",
      "    z   3\n",
      "conditional tree for: set(['y', 'z', 't'])\n",
      "  Null Set   1\n",
      "   x   3\n",
      "conditional tree for: set(['x'])\n",
      "  Null Set   1\n",
      "   z   3\n"
     ]
    },
    {
     "data": {
      "text/plain": [
       "[{'e'},\n",
       " {'m'},\n",
       " {'o'},\n",
       " {'n'},\n",
       " {'u'},\n",
       " {'w'},\n",
       " {'v'},\n",
       " {'h'},\n",
       " {'j'},\n",
       " {'q'},\n",
       " {'p'},\n",
       " {'s'},\n",
       " {'s', 'x'},\n",
       " {'t'},\n",
       " {'t', 'x'},\n",
       " {'t', 'z'},\n",
       " {'t', 'x', 'z'},\n",
       " {'y'},\n",
       " {'x', 'y'},\n",
       " {'y', 'z'},\n",
       " {'x', 'y', 'z'},\n",
       " {'t', 'y'},\n",
       " {'t', 'x', 'y'},\n",
       " {'t', 'y', 'z'},\n",
       " {'t', 'x', 'y', 'z'},\n",
       " {'r'},\n",
       " {'x'},\n",
       " {'x', 'z'},\n",
       " {'z'}]"
      ]
     },
     "execution_count": 19,
     "metadata": {},
     "output_type": "execute_result"
    }
   ],
   "source": [
    "freqItems = []\n",
    "mineTree(myFPTree, myHeaderTab, 3, set([]), freqItems)\n",
    "freqItems"
   ]
  },
  {
   "cell_type": "markdown",
   "metadata": {},
   "source": [
    "## 封装\n",
    "至此，完整的FP-growth算法已经可以运行。封装整个过程如下："
   ]
  },
  {
   "cell_type": "code",
   "execution_count": 22,
   "metadata": {
    "collapsed": true
   },
   "outputs": [],
   "source": [
    "def fpGrowth(dataSet, minSup=3):\n",
    "    initSet = createInitSet(dataSet)\n",
    "    myFPtree, myHeaderTab = createTree(initSet, minSup)\n",
    "    freqItems = []\n",
    "    mineTree(myFPtree, myHeaderTab, minSup, set([]), freqItems)\n",
    "    return freqItems"
   ]
  },
  {
   "cell_type": "markdown",
   "metadata": {},
   "source": [
    "**注意**，这里直接使用了上节中的createInitSet()函数，这里有个问题：上节中的loadSimpDat()函数返回了一组简单的样例数据，没有相同的事务，所以createInitSet()函数中直接赋值“retDict[frozenset(trans)] = 1”没有问题。但是如果要封装成一个通用的FP-growth算法，就还需要处理输入数据有相同事务的情形，createInitSet()函数中需要**累加** retDict[frozenset(trans)]。"
   ]
  },
  {
   "cell_type": "code",
   "execution_count": 23,
   "metadata": {},
   "outputs": [
    {
     "name": "stdout",
     "output_type": "stream",
     "text": [
      "conditional tree for: set(['s'])\n",
      "  Null Set   1\n",
      "   x   3\n",
      "conditional tree for: set(['y'])\n",
      "  Null Set   1\n",
      "   x   3\n",
      "    z   3\n",
      "conditional tree for: set(['y', 'z'])\n",
      "  Null Set   1\n",
      "   x   3\n",
      "conditional tree for: set(['t'])\n",
      "  Null Set   1\n",
      "   y   3\n",
      "    x   3\n",
      "     z   3\n",
      "conditional tree for: set(['x', 't'])\n",
      "  Null Set   1\n",
      "   y   3\n",
      "conditional tree for: set(['z', 't'])\n",
      "  Null Set   1\n",
      "   y   3\n",
      "    x   3\n",
      "conditional tree for: set(['x', 'z', 't'])\n",
      "  Null Set   1\n",
      "   y   3\n",
      "conditional tree for: set(['x'])\n",
      "  Null Set   1\n",
      "   z   3\n"
     ]
    },
    {
     "data": {
      "text/plain": [
       "[{'s'},\n",
       " {'s', 'x'},\n",
       " {'y'},\n",
       " {'x', 'y'},\n",
       " {'y', 'z'},\n",
       " {'x', 'y', 'z'},\n",
       " {'t'},\n",
       " {'t', 'y'},\n",
       " {'t', 'x'},\n",
       " {'t', 'x', 'y'},\n",
       " {'t', 'z'},\n",
       " {'t', 'y', 'z'},\n",
       " {'t', 'x', 'z'},\n",
       " {'t', 'x', 'y', 'z'},\n",
       " {'r'},\n",
       " {'x'},\n",
       " {'x', 'z'},\n",
       " {'z'}]"
      ]
     },
     "execution_count": 23,
     "metadata": {},
     "output_type": "execute_result"
    }
   ],
   "source": [
    "dataSet = loadSimpDat()\n",
    "freqItems = fpGrowth(dataSet)\n",
    "freqItems"
   ]
  },
  {
   "cell_type": "markdown",
   "metadata": {},
   "source": [
    "## 总结\n",
    "FP-growth算法是一种用于发现数据集中频繁模式的有效方法。FP-growth算法利用Apriori原则，执行更快。Apriori算法产生候选项集，然后扫描数据集来检查它们是否频繁。由于只对数据集扫描两次，因此FP-growth算法执行更快。在FP-growth算法中，数据集存储在一个称为FP树的结构中。FP树构建完成后，可以通过查找元素项的条件基及构建条件FP树来发现频繁项集。该过程不断以更多元素作为条件重复进行，直到FP树只包含一个元素为止。\n",
    "\n",
    "FP-growth算法还有一个map-reduce版本的实现，它也很不错，可以扩展到多台机器上运行。Google使用该算法通过遍历大量文本来发现频繁共现词，其做法和我们刚才介绍的例子非常类似"
   ]
  },
  {
   "cell_type": "markdown",
   "metadata": {},
   "source": [
    "## 示例：从新闻网站点击流中挖掘新闻报道\n",
    "从新闻网站点击流中挖掘热门新闻报道。这是一个很大的数据集，有将近100万条记录（参见扩展阅读：kosarak）。在源数据集合保存在文件kosarak.dat中。该文件中的每一行包含某个用户浏览过的新闻报道。新闻报道被编码成整数，我们可以使用Apriori或FP-growth算法挖掘其中的频繁项集，查看那些新闻ID被用户大量观看到\n"
   ]
  },
  {
   "cell_type": "code",
   "execution_count": 25,
   "metadata": {},
   "outputs": [
    {
     "name": "stdout",
     "output_type": "stream",
     "text": [
      "conditional tree for: set(['1'])\n",
      "  Null Set   1\n",
      "   6   107404\n",
      "conditional tree for: set(['3'])\n",
      "  Null Set   1\n",
      "   11   9718\n",
      "   6   186289\n",
      "    11   117401\n",
      "conditional tree for: set(['11', '3'])\n",
      "  Null Set   1\n",
      "   6   117401\n",
      "conditional tree for: set(['11'])\n",
      "  Null Set   1\n",
      "   6   261773\n"
     ]
    }
   ],
   "source": [
    "parsedDat = [line.split() for line in open('kosarak.dat').readlines()]\n",
    "initSet = createInitSet(parsedDat)\n",
    "## 然后构建FP树，并从中寻找那些至少被10万人浏览过的新闻报道。\n",
    "frequentList = fpGrowth(initSet,100000)"
   ]
  },
  {
   "cell_type": "markdown",
   "metadata": {},
   "source": [
    "接下来看下有多少新闻报道或报道集合曾经被10万或者更多的人浏览过："
   ]
  },
  {
   "cell_type": "code",
   "execution_count": 28,
   "metadata": {},
   "outputs": [
    {
     "name": "stdout",
     "output_type": "stream",
     "text": [
      "9\n"
     ]
    }
   ],
   "source": [
    "print len(frequentList)"
   ]
  },
  {
   "cell_type": "markdown",
   "metadata": {},
   "source": [
    "总共有9个。下面看看都是那些："
   ]
  },
  {
   "cell_type": "code",
   "execution_count": 29,
   "metadata": {},
   "outputs": [
    {
     "data": {
      "text/plain": [
       "[{'1'},\n",
       " {'1', '6'},\n",
       " {'3'},\n",
       " {'11', '3'},\n",
       " {'11', '3', '6'},\n",
       " {'3', '6'},\n",
       " {'11'},\n",
       " {'11', '6'},\n",
       " {'6'}]"
      ]
     },
     "execution_count": 29,
     "metadata": {},
     "output_type": "execute_result"
    }
   ],
   "source": [
    "frequentList"
   ]
  },
  {
   "cell_type": "code",
   "execution_count": null,
   "metadata": {
    "collapsed": true
   },
   "outputs": [],
   "source": []
  }
 ],
 "metadata": {
  "kernelspec": {
   "display_name": "Python 2",
   "language": "python",
   "name": "python2"
  },
  "language_info": {
   "codemirror_mode": {
    "name": "ipython",
    "version": 2
   },
   "file_extension": ".py",
   "mimetype": "text/x-python",
   "name": "python",
   "nbconvert_exporter": "python",
   "pygments_lexer": "ipython2",
   "version": "2.7.13"
  }
 },
 "nbformat": 4,
 "nbformat_minor": 2
}
