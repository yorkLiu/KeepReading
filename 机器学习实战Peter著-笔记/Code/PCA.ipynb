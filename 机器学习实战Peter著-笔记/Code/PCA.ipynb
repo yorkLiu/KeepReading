{
 "cells": [
  {
   "cell_type": "markdown",
   "metadata": {},
   "source": [
    "# PCA (Principal Component Analysis) 主成分分析降维算法\n",
    "\n",
    "## 降维技术\n",
    " - PCA（Principal Component Analysis）主成分分析。在PCA中，数据从原来的坐标系转换到了新的坐标第，新坐标系的选择是由数据本身决定的。第一个新坐标选择的是原始数据中 **方差** 最大的方向，第二个新坐标轴的选择和第一个坐标轴正交且具有最大方差的方向。该过程一直重复，重复次为原始数据中特征的数目。我们会发现大部分方差都包含在最前面的几个新坐标轴中。\n",
    "\n",
    " - FA (Factor Analysis)因子分析，在因子分析中，我们假设在观察数据的生成中有一些观察不到的 **隐变量** (latent variable)。假设观察数据是这些隐变量各某些噪声的线性组合。那么隐变量的数据可能比观察数据的数目少，也就是说通过找到隐变量就可以实现数据的降维。因子分析 已经应用于社会科学、金融和其他领域了。\n",
    "\n",
    " - ICA（Independent Component Analysis）独立成分分析。ICA假设数据是从N个数据源生成的，这一点和PCA有些类似。假设数据为多个数据源的混合观察结果，这些数据源之间在统计上是相互独立的，而PCA中只假设数据是不相关的。同PCA一样，如果数据源的数目少于观察数据的数目，则可以实现降维过程。\n",
    " \n",
    " - **注** PCA是目前应用最为广泛的"
   ]
  },
  {
   "cell_type": "markdown",
   "metadata": {},
   "source": [
    "## 在Numpy中实现PCA\n",
    "将数据转换成前N个主成分的步骤如下:\n",
    "> * 去除平均值\n",
    "> * 计算协方差矩阵\n",
    "> * 计算协方差矩阵的特征值和特征向量\n",
    "> * 将特征值从大到小排序\n",
    "> * 保留最上面N个特征向量\n",
    "> * 将数据转换以上述N个特征向量构建的新空间中"
   ]
  },
  {
   "cell_type": "code",
   "execution_count": 2,
   "metadata": {},
   "outputs": [],
   "source": [
    "from numpy import *\n",
    "import matplotlib\n",
    "import matplotlib.pyplot as plt\n",
    "%matplotlib inline"
   ]
  },
  {
   "cell_type": "code",
   "execution_count": 67,
   "metadata": {
    "collapsed": true
   },
   "outputs": [],
   "source": [
    "def loadDateSet(filename, delimeter='\\t'):\n",
    "    with open(filename) as fp:\n",
    "        stringArr = [line.strip().split(delimeter) for line in fp.readlines()]\n",
    "        datArra = [map(float, line) for line in stringArr]\n",
    "        return mat(datArra)\n",
    "    \n",
    "def pca(dataMat, topNfeat=999999):\n",
    "    meanVals = mean(dataMat, axis=0)\n",
    "    meanRemoved = dataMat - meanVals\n",
    "    covMat = cov(meanRemoved, rowvar=0)\n",
    "    eigVals, eigVects = linalg.eig(mat(covMat))\n",
    "    eigValInd = argsort(eigVals)\n",
    "    eigValInd = eigValInd[:-(topNfeat+1):-1]\n",
    "    redEigVects = eigVects[:,eigValInd]\n",
    "    lowDDataMat = meanRemoved * redEigVects\n",
    "    reconMat = (lowDDataMat * redEigVects.T) + meanVals\n",
    "    return lowDDataMat, reconMat "
   ]
  },
  {
   "cell_type": "code",
   "execution_count": 88,
   "metadata": {},
   "outputs": [
    {
     "data": {
      "text/plain": [
       "matrix([[10.235186, 11.321997],\n",
       "        [10.122339, 11.810993],\n",
       "        [ 9.190236,  8.904943],\n",
       "        ...,\n",
       "        [ 9.854922,  9.201393],\n",
       "        [ 9.11458 ,  9.134215],\n",
       "        [10.334899,  8.543604]])"
      ]
     },
     "execution_count": 88,
     "metadata": {},
     "output_type": "execute_result"
    }
   ],
   "source": [
    "dataMat = loadDateSet('data/testSet.txt')\n",
    "dataMat"
   ]
  },
  {
   "cell_type": "code",
   "execution_count": 89,
   "metadata": {},
   "outputs": [
    {
     "data": {
      "text/plain": [
       "array([10.235186, 10.122339,  9.190236,  9.306371,  8.330131, 10.152785,\n",
       "       10.40854 ,  9.003615,  9.534872,  9.498181,  9.875271, 10.362276,\n",
       "       10.191204,  7.720499,  9.334379,  7.963186,  8.244973,  9.569196,\n",
       "        8.854793,  9.382171,  8.179055,  8.267896,  9.047165,  8.741043,\n",
       "        7.190216,  8.081227,  8.04746 ,  7.917584,  8.676942,  9.210251,\n",
       "        7.732998,  7.681754,  7.925863,  8.261509,  8.514872, 10.32445 ,\n",
       "        7.85671 ,  7.858608,  9.196808,  9.644415,  9.579833,  7.888484,\n",
       "        9.072624,  8.914184,  7.822869, 10.538554,  8.280187,  8.884223,\n",
       "        9.359927,  9.078611,  7.935134,  8.805945,  9.584316, 11.269714,\n",
       "        9.120444,  7.97752 ,  8.104648,  8.617126,  9.033811,  8.32768 ,\n",
       "        8.532272,  9.295434,  9.905202, 10.585764, 10.427584,  9.072767,\n",
       "        9.164275,  9.746058,  9.286072,  8.188233,  7.948598,  7.56335 ,\n",
       "        8.972405,  9.980868,  7.75349 ,  7.431143,  8.943403, 10.48189 ,\n",
       "        9.150454,  8.123894,  8.626164,  7.354185, 11.323046,  8.190008,\n",
       "        8.412598,  9.258404, 11.007915,  8.279403,  8.931149, 10.239245,\n",
       "        8.129346,  8.485823, 10.70364 ,  9.500728,  9.712414,  9.333374,\n",
       "        8.787865,  9.23818 ,  9.577388, 10.447753,  9.303944,  9.883268,\n",
       "        9.471921, 10.007753,  8.110298,  6.964069, 10.413499,  8.032629,\n",
       "        8.015549, 10.462924,  9.530788,  9.202658, 10.103241,  7.849264,\n",
       "        9.059071, 10.172889,  9.528439,  7.190422,  9.085716,  9.452887,\n",
       "        7.417322,  8.468639,  8.303642,  9.939052,  8.701989,  9.737541,\n",
       "        8.280233, 10.648386,  9.173893,  9.135397,  7.59458 ,  8.58752 ,\n",
       "        8.581887,  9.448768,  7.882664, 10.050635,  9.012078,  8.77002 ,\n",
       "        9.428804,  8.504209,  9.800003,  8.06966 , 10.012217,  8.704677,\n",
       "        8.198722,  9.868322,  9.426997,  9.228767,  8.952359,  8.186847,\n",
       "        9.026371,  9.483364,  7.826587, 11.197846,  7.632421,  8.761605,\n",
       "        9.35367 ,  6.466637,  8.370634, 10.337451,  8.917679,  9.076621,\n",
       "        7.278948, 10.153017,  7.132603,  9.338644,  9.878602, 10.009505,\n",
       "        9.384438,  7.535322,  6.808732,  8.302965,  8.345379,  9.51753 ,\n",
       "        9.267825, 10.291511,  8.605909,  8.331145,  8.632412,  8.766397,\n",
       "        9.40707 ,  9.709495, 10.422201,  6.831495,  8.187122,  8.523093,\n",
       "        7.952394, 10.49078 , 10.813791,  7.861113,  8.800399,  7.542152,\n",
       "        9.446981,  8.281684,  8.473801, 11.736767,  8.379578,  8.313718,\n",
       "        9.342589,  7.56071 ,  9.295344,  9.176612,  8.614385,  9.079373,\n",
       "       10.333289,  9.453502, 10.17459 ,  9.693713,  7.474925, 10.107905,\n",
       "        9.257241, 10.209794,  7.24805 , 10.150091, 10.077713,  8.191122,\n",
       "        8.791469,  9.229434,  8.682571,  7.524099,  8.44241 ,  9.364851,\n",
       "        9.061222,  7.989999,  8.801275, 10.351932, 10.23071 ,  9.783163,\n",
       "       10.651481,  8.387393,  9.003921,  8.483723,  9.020501,  9.329105,\n",
       "        9.583687,  8.908705,  8.835406,  9.736362, 10.030302,  8.287142,\n",
       "        9.173211,  9.026355,  9.128391, 11.486346, 11.519458,  9.027707,\n",
       "        9.351935,  9.421701,  9.005687,  7.015279,  8.213607,  8.226646,\n",
       "        8.144753, 10.133642, 10.763481, 10.003622,  9.007955,  8.670506,\n",
       "       10.386414, 10.104761,  8.079502,  9.945424,  8.642497,  9.349722,\n",
       "        9.034991,  8.738746,  8.919532,  9.464136, 10.710057, 10.042007,\n",
       "        8.447996,  9.509351, 11.946359,  9.981617,  9.853876, 10.560648,\n",
       "        8.370952,  8.323209,  9.828359,  8.515623,  9.004363, 10.529847,\n",
       "       10.028765,  9.448114,  8.332617,  8.323006,  7.740771,  8.379615,\n",
       "        8.340764,  9.863614,  9.969563,  9.164394, 10.622098,  9.592072,\n",
       "        8.212027,  9.080225,  8.555774,  9.958046,  8.972573,  9.213223,\n",
       "        8.737239, 10.333907,  8.797511, 11.044848,  8.53926 , 11.582163,\n",
       "        7.863848,  6.218103,  9.120602,  9.001166,  8.081476,  9.369802,\n",
       "        8.768925,  9.841098, 10.451522,  9.755402,  7.988961,  8.872507,\n",
       "       10.36398 ,  6.315671,  9.638879,  8.588126,  8.947408,  9.05113 ,\n",
       "        9.321709, 10.146531,  9.843373,  9.213148,  7.630078,  8.093088,\n",
       "        7.488915,  8.126036,  8.76035 , 10.201347,  7.838208,  6.155653,\n",
       "        7.767841,  8.425656, 10.362168, 10.180024,  9.794665,  9.970394,\n",
       "        7.030217,  9.275414, 10.314911,  9.259774, 10.023919,  8.88754 ,\n",
       "        9.851608,  8.710882,  9.017007,  7.976369,  8.738332,  8.34451 ,\n",
       "        8.959613,  9.169982,  7.487451,  8.706316,  9.564832,  8.327775,\n",
       "        9.734032,  8.021343,  9.081048,  7.626651, 10.725858,  8.731381,\n",
       "       10.394237,  7.029311,  9.517907, 10.394064, 10.7525  ,  9.692431,\n",
       "        9.651897,  8.592329, 10.212801,  9.045043,  8.901643, 10.794525,\n",
       "       11.040915,  8.390836,  9.840166, 10.80681 ,  8.924285,  8.411251,\n",
       "        7.808891,  9.733437,  8.300026,  8.221756,  9.096867,  9.410116,\n",
       "       10.097176,  9.387954,  9.376134,  8.231599,  9.910738,  8.645689,\n",
       "        8.090245,  9.253483,  9.331546,  9.843256,  9.713131,  9.259369,\n",
       "       10.243948,  6.396262,  8.936289,  8.750846,  6.497155,  9.516552,\n",
       "        9.125766,  8.374387,  8.132816, 10.099505,  9.356477,  8.112934,\n",
       "        7.265396, 11.950505, 10.745959,  8.89327 ,  6.003473,  7.498851,\n",
       "       10.162072,  8.732617,  9.300827, 11.908436,  9.371215,  9.94364 ,\n",
       "        7.38645 ,  8.410374,  7.830419,  8.26314 , 11.448164,  8.216533,\n",
       "        9.316128,  8.156927,  9.951421,  9.059607, 10.476339,  7.5482  ,\n",
       "        9.432204,  9.40275 , 11.188095,  9.520201,  8.884154,  8.961105,\n",
       "        8.549663, 10.111708,  9.024761,  7.904149,  9.240995,  8.126538,\n",
       "        7.442148,  9.486821,  9.834289,  9.009714,  9.761314,  6.993941,\n",
       "        8.659524,  7.685363,  7.793217,  8.883454,  8.781821,  7.946281,\n",
       "        8.523959,  9.031525,  8.31714 ,  9.192417,  8.408486, 10.327702,\n",
       "        8.389687,  8.64225 ,  8.833447,  8.805261,  9.726211,  8.477631,\n",
       "        9.738838,  8.272108,  9.258089,  8.334144,  8.150904,  7.259669,\n",
       "       11.03418 , 10.705432,  8.388814,  8.559369,  7.187988,  8.811453,\n",
       "        8.492762,  8.739752, 10.150752,  7.062378,  8.448195, 10.224333,\n",
       "        9.533795,  9.519492,  9.661847,  7.963877, 10.184486,  8.505234,\n",
       "        8.187646,  9.16759 ,  8.612162, 10.970868,  9.603649,  9.704263,\n",
       "        9.657506,  9.337882,  9.521722,  8.954197,  8.635658,  8.910816,\n",
       "        9.900933, 10.247105,  9.57169 ,  7.388627,  8.354008,  9.775598,\n",
       "        8.768913,  8.330199,  8.169356, 10.346522,  7.976144,  8.429648,\n",
       "       11.261674, 10.051066,  8.954626,  8.38222 ,  9.820642,  8.12595 ,\n",
       "        8.646465,  8.190202,  8.773887,  8.731   ,  9.163098,  9.456346,\n",
       "        9.64518 ,  8.83506 ,  9.32595 ,  9.941912,  9.282799,  9.567591,\n",
       "        8.529019,  9.314824,  8.264439,  8.307262,  9.122041,  8.404258,\n",
       "        7.828355,  9.80318 ,  8.662439,  8.883265,  8.01233 ,  9.420258,\n",
       "        7.015415,  9.888832,  9.677549,  8.410158,  9.464147,  7.067227,\n",
       "        9.320923,  9.056917,  8.110004, 10.310021,  8.211185,  8.942883,\n",
       "        9.479958,  8.973982,  8.519257,  9.424556,  7.222919,  8.257007,\n",
       "        9.778795,  8.028806,  9.886464,  9.090552,  9.605548,  9.959004,\n",
       "        8.308701,  7.748293,  8.311108,  9.697068,  9.582991,  9.167265,\n",
       "       10.329753,  8.908819, 10.072908,  7.992905,  8.907696,  8.421948,\n",
       "        7.481399, 10.358408,  8.786556,  9.658701, 10.167807,  8.653449,\n",
       "        8.020304,  8.364348,  9.119183,  8.405504, 11.02093 ,  9.755232,\n",
       "       10.059542,  8.727131,  7.666182,  8.870733,  9.340446,  9.919283,\n",
       "        7.905837, 10.181187,  8.797328,  8.466272, 10.335914,  9.365003,\n",
       "        8.011017, 10.923993,  7.074631,  9.824598,  8.861026, 10.127296,\n",
       "       10.548377,  8.88047 ,  8.901619,  7.81371 , 10.128808, 11.096699,\n",
       "        8.551471,  8.907241, 10.571647,  8.815314,  8.453396,  9.594819,\n",
       "       10.714211,  7.428788, 10.892119,  9.024071,  7.803375,  8.521558,\n",
       "        9.742818,  9.832836,  8.703132,  9.905029, 10.037536,  8.629995,\n",
       "        9.583497,  8.781687,  9.344119, 10.40751 ,  7.244488, 10.643616,\n",
       "        8.757557, 10.78459 , 10.028427,  7.968361,  8.925954,  7.738692,\n",
       "        8.192398, 10.412017,  8.208801,  7.820077,  9.542754,  6.817938,\n",
       "        7.365218,  9.274391,  9.546475,  7.471734,  8.016969,  8.852701,\n",
       "        8.215012,  6.975507,  9.435134,  9.228075,  8.38841 ,  7.111456,\n",
       "        9.403508,  9.133894, 10.670801,  9.983542, 10.012865,  8.929895,\n",
       "        7.666951,  9.493839,  8.894081,  9.593382,  9.126847,  9.532945,\n",
       "        9.459384,  8.982743, 10.107798, 10.563574,  8.278963,  8.73496 ,\n",
       "        9.59794 , 10.025478, 10.335922,  8.40439 ,  7.108699,  8.873951,\n",
       "        8.731459,  8.795146,  6.407165,  9.979312,  8.786715, 10.753339,\n",
       "       10.508031, 10.636925, 10.614322,  8.916411,  8.112756, 10.833109,\n",
       "        8.319758,  9.945336, 10.150461, 10.185024,  9.793569, 10.590128,\n",
       "        8.505584, 10.461428,  8.755781,  7.488249, 10.238905,  9.887827,\n",
       "        8.529971,  8.375208,  8.901724,  8.607694,  8.691369,  9.584578,\n",
       "       10.265792,  7.592968,  8.692791,  7.589852, 10.550386,  8.578351,\n",
       "        7.526931,  8.577081,  9.272136, 10.300809,  8.642013,  9.720491,\n",
       "        9.029005,  8.736201,  8.672886,  8.370633,  9.483776,  6.790842,\n",
       "        9.842146,  9.563336,  8.724669,  9.012145,  9.116948,  6.219094,\n",
       "        9.468422,  8.825231,  9.572224,  9.609128,  9.42859 ,  8.293266,\n",
       "        9.423584,  9.240796, 10.915423, 10.854684,  9.226816,  9.580264,\n",
       "        7.289907,  9.338857,  9.523176, 10.162233,  8.87393 ,  8.607259,\n",
       "        8.852325,  8.077272,  8.169273,  6.806421,  8.793151, 11.640981,\n",
       "        9.544082,  9.009266,  9.726552,  9.495888,  8.683982,  8.322105,\n",
       "        8.887895,  8.662659,  9.263321,  7.802624,  8.773183,  8.730443,\n",
       "        8.942915,  8.057618,  8.112081, 10.378884,  9.248876,  9.739599,\n",
       "        8.126345,  8.894788,  9.683165, 10.886957,  9.668852,  7.486692,\n",
       "        8.79485 ,  8.835915,  9.443984,  8.696621,  9.64556 ,  9.623857,\n",
       "       10.840632,  7.298135,  9.639644,  9.849802, 10.609964,  9.768229,\n",
       "        7.646351, 10.2303  ,  8.224402,  6.879671,  7.976247,  9.183268,\n",
       "       11.471853, 10.428349,  8.090828,  9.738627,  8.139709,  9.508055,\n",
       "        8.85726 ,  8.902558,  9.660607,  8.772221, 11.020038,  7.918527,\n",
       "        7.630835, 11.043272,  9.299376,  9.795087,  9.415683,  7.942037,\n",
       "        9.72479 , 10.222032,  8.894163,  8.394309,  9.012776,  9.661093,\n",
       "        9.896472,  9.135628,  8.762656,  8.602473, 10.085297, 10.644983,\n",
       "        9.034571,  8.60292 ,  8.224766,  8.75505 ,  9.669937, 10.69353 ,\n",
       "        9.462806,  9.287707, 10.94126 ,  9.26308 , 10.167111,  8.78383 ,\n",
       "        8.958624,  9.841649,  7.205691,  8.629089,  7.46944 ,  8.179133,\n",
       "        8.083984,  9.2713  ,  8.652349,  7.98392 ,  7.83686 ,  7.418535,\n",
       "        8.458288,  9.387605,  8.663951, 10.146507,  8.937103, 11.218687,\n",
       "        8.363142,  7.877643,  9.620978,  9.509649,  6.748743,  9.300919,\n",
       "        9.332257,  7.89861 ,  9.841914,  6.920484,  8.544713,  8.162266,\n",
       "        8.659552, 10.673398,  9.024   ,  8.183292, 10.544919,  7.201266,\n",
       "        9.557407,  8.304605,  9.742855, 10.024587, 10.002296,  8.965876,\n",
       "        7.823136,  8.125088,  6.569589, 10.195497, 11.730011,  8.739105,\n",
       "        9.820059,  9.547456,  8.375072,  8.889533,  8.861201, 12.677687,\n",
       "        9.100735,  7.72835 ,  7.955373,  8.733352, 10.257527,  9.246413,\n",
       "        9.745302,  7.785652,  7.431673,  8.654384,  8.475392,  9.96844 ,\n",
       "       10.163616, 10.238135,  9.902889,  9.52385 ,  9.214363,  9.26604 ,\n",
       "        8.494292, 10.821158,  8.645888,  9.885204,  9.08499 ,  9.277874,\n",
       "        8.135131,  7.917379,  9.685586,  8.558141,  9.502917,  6.409004,\n",
       "       10.149235,  7.847304,  8.84693 ,  8.675153,  9.476276, 11.099184,\n",
       "        8.792411,  8.400418,  8.555713,  8.024763,  8.642696,  7.906117,\n",
       "        8.793393,  8.280364,  9.387766,  9.626853, 10.163631,  9.375543,\n",
       "        9.30944 , 10.055329,  8.706241, 10.032934, 10.812974, 10.352603,\n",
       "        8.27687 ,  8.397389,  9.371741, 10.82571 ,  9.158483, 10.658639,\n",
       "        8.091762, 10.734892, 11.53588 ,  9.799077,  8.478725,  9.399902,\n",
       "        7.305377,  7.613377, 10.681308,  9.973855,  9.369918,  8.838223,\n",
       "        9.521831,  9.724419,  8.890224,  9.932763, 10.839337,  8.497708,\n",
       "        8.440236,  9.063566,  8.449647,  8.554576, 10.348606,  5.985254,\n",
       "        9.931937,  9.854922,  9.11458 , 10.334899])"
      ]
     },
     "execution_count": 89,
     "metadata": {},
     "output_type": "execute_result"
    }
   ],
   "source": [
    "dataMat[:,0].flatten().A[0]"
   ]
  },
  {
   "cell_type": "code",
   "execution_count": 52,
   "metadata": {},
   "outputs": [],
   "source": [
    "lowDMat, reconMat = pca(dataMat)"
   ]
  },
  {
   "cell_type": "code",
   "execution_count": 53,
   "metadata": {},
   "outputs": [
    {
     "data": {
      "text/plain": [
       "matrix([[-2.51033597,  0.15840394],\n",
       "        [-2.86915379,  0.5092619 ],\n",
       "        [ 0.09741085, -0.20728318],\n",
       "        ...,\n",
       "        [-0.50166225, -0.62056456],\n",
       "        [-0.05898712, -0.02335614],\n",
       "        [-0.18978714, -1.37276015]])"
      ]
     },
     "execution_count": 53,
     "metadata": {},
     "output_type": "execute_result"
    }
   ],
   "source": [
    "lowDMat"
   ]
  },
  {
   "cell_type": "code",
   "execution_count": 54,
   "metadata": {},
   "outputs": [
    {
     "data": {
      "text/plain": [
       "matrix([[10.235186, 11.321997],\n",
       "        [10.122339, 11.810993],\n",
       "        [ 9.190236,  8.904943],\n",
       "        ...,\n",
       "        [ 9.854922,  9.201393],\n",
       "        [ 9.11458 ,  9.134215],\n",
       "        [10.334899,  8.543604]])"
      ]
     },
     "execution_count": 54,
     "metadata": {},
     "output_type": "execute_result"
    }
   ],
   "source": [
    "reconMat"
   ]
  },
  {
   "cell_type": "code",
   "execution_count": 55,
   "metadata": {},
   "outputs": [
    {
     "data": {
      "text/plain": [
       "(1000, 2)"
      ]
     },
     "execution_count": 55,
     "metadata": {},
     "output_type": "execute_result"
    }
   ],
   "source": [
    "shape(lowDMat)"
   ]
  },
  {
   "cell_type": "code",
   "execution_count": 56,
   "metadata": {},
   "outputs": [
    {
     "data": {
      "text/plain": [
       "(1000, 2)"
      ]
     },
     "execution_count": 56,
     "metadata": {},
     "output_type": "execute_result"
    }
   ],
   "source": [
    "shape(reconMat)"
   ]
  },
  {
   "cell_type": "code",
   "execution_count": 90,
   "metadata": {},
   "outputs": [
    {
     "data": {
      "image/png": "[encoded data removed]",
      "text/plain": [
       "<matplotlib.figure.Figure at 0x10ad30090>"
      ]
     },
     "metadata": {},
     "output_type": "display_data"
    }
   ],
   "source": [
    "fig = plt.figure()\n",
    "ax = fig.add_subplot(111)\n",
    "ax.scatter(dataMat[:,0].flatten().A[0], dataMat[:,1].flatten().A[0], marker='^', s=90)\n",
    "ax.scatter(reconMat[:,0].flatten().A[0], reconMat[:,1].flatten().A[0], marker='o', s=50, c='red')\n",
    "plt.show()"
   ]
  },
  {
   "cell_type": "code",
   "execution_count": 100,
   "metadata": {},
   "outputs": [
    {
     "data": {
      "image/png": "[encoded data removed]",
      "text/plain": [
       "<matplotlib.figure.Figure at 0x10ac19dd0>"
      ]
     },
     "metadata": {},
     "output_type": "display_data"
    }
   ],
   "source": [
    "lowDMat, reconMat = pca(dataMat, 2)\n",
    "fig = plt.figure()\n",
    "ax = fig.add_subplot(111)\n",
    "ax.scatter(dataMat[:,0].flatten().A[0], dataMat[:,1].flatten().A[0], marker='^', s=90)\n",
    "ax.scatter(reconMat[:,0].flatten().A[0], reconMat[:,1].flatten().A[0], marker='o', s=50, c='red')\n",
    "plt.show()"
   ]
  },
  {
   "cell_type": "code",
   "execution_count": null,
   "metadata": {
    "collapsed": true
   },
   "outputs": [],
   "source": []
  }
 ],
 "metadata": {
  "kernelspec": {
   "display_name": "Python 2",
   "language": "python",
   "name": "python2"
  },
  "language_info": {
   "codemirror_mode": {
    "name": "ipython",
    "version": 2
   },
   "file_extension": ".py",
   "mimetype": "text/x-python",
   "name": "python",
   "nbconvert_exporter": "python",
   "pygments_lexer": "ipython2",
   "version": "2.7.13"
  }
 },
 "nbformat": 4,
 "nbformat_minor": 2
}
