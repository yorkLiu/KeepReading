{
 "cells": [
  {
   "cell_type": "markdown",
   "metadata": {},
   "source": [
    "# Apriori 算法\n",
    "\n",
    "## 引言：数据挖掘与机器学习\n",
    "有时候，人们会对机器学习与数据挖掘这两个名词感到困惑。如果你翻开一本冠以机器学习之名的教科书，再同时翻开一本名叫数据挖掘的教材，你会发现二者之间有相当多重合的内容。比如机器学习中也会讲到决策树和支持向量机，而数据挖掘的书里也必然要在决策树和支持向量机上花费相当的篇幅。可见二者确有相当大的重合面，但如果细研究起来，二者也的确是各自不同的领域。\n",
    "\n",
    "大体上看，数据挖掘可以视为数据库、机器学习和统计学三者的交叉。简单来说，对数据挖掘而言，数据库提供了数据管理技术，而机器学习和统计学则提供了数据分析技术。所以你可以认为数据挖掘包含了机器学习，或者说机器学习是数据挖掘的弹药库中一类相当庞大的弹药集。既然是一类弹药，其实也就是在说数据挖掘中肯定还有其他非机器学习范畴的技术存在。Apriori算法就属于一种非机器学习的数据挖掘技术。\n",
    "\n",
    "我们都知道数据挖掘是从大量的、不完全的、有噪声的、模糊的、随机的数据中，提取隐含在其中的、人们事先不知道的、但又是潜在有用的信息和知识的过程。 而机器学习是以数据为基础，设法构建或训练出一个模型，进而利用这个模型来实现数据分析的一类技术。这个被训练出来的机器学习模型当然也可以认为是我们从数据中挖掘出来的那些潜在的、有意义的信息和知识。在非机器学习的数据挖掘技术中，我们并不会去建立这样一个模型，而是直接从原数据集入手，设法分析出隐匿在数据背后的某些信息或知识。在后续介绍Apriori算法时，你会相当明显地感受到这一特点。\n",
    "\n",
    "> **注** apriori 在拉丁语中指 \"来自以前\"。当定义问题时，通常会使用先验知识或者假设，这被称作 \"一个先验\" (a priori)。在贝叶斯统计中，使用先验知识作为条件进行推断常见。先验知识可能来自领域知识，先前的一些测量结果，等等。\n",
    "\n",
    "## Apriori定律\n",
    "- **Apriori定律1**: 如果一个集合是频繁项集，则它的所有子集都是频繁项集。\n",
    "  > 例如：假设一个集合{A,B}是频繁项集，即A、B同时出现在一条记录的次数大于等于最小支持度min_support，则它的子集{A},{B}出现次数必定大于等于min_support，即它的子集都是频繁项集。\n",
    "\n",
    "- **Apriori定律2**: 如果一个集合不是频繁项集，则它的所有超集都不是频繁项集。  \n",
    "  > 例如：假设集合{A}不是频繁项集，即A出现的次数小于 min_support，则它的任何超集如{A,B}出现的次数必定小于min_support，因此其超集必定也不是频繁项集。"
   ]
  },
  {
   "cell_type": "markdown",
   "metadata": {},
   "source": [
    "-------------\n",
    "\n",
    "# Apriori 算法\n",
    "当集合中项的个数大于0时：\n",
    "\n",
    "     1. 构建一个由 k 个项组成的候选项集合的列表 \n",
    "     2. 检查数据以确认每个项集都是频繁的\n",
    "     3. 保留频繁项集并构建 k+1 项组成的候选项集的列表\n",
    "    \n",
    "    "
   ]
  },
  {
   "cell_type": "code",
   "execution_count": 14,
   "metadata": {},
   "outputs": [],
   "source": [
    "def loadData():\n",
    "    return [[1,3,4], [2,3,5], [1,2,3,5],[2,5]]\n",
    "\n",
    "def createC1(dataSet):\n",
    "    C1=[]\n",
    "    for transaction in dataSet:\n",
    "        for item in transaction:\n",
    "            if not[item] in C1:\n",
    "                C1.append([item])\n",
    "                \n",
    "    C1.sort()\n",
    "    return map(frozenset, C1)\n",
    "\n",
    "def scanD(D,Ck,minSupport):\n",
    "    ssCnt= {}\n",
    "    for tid in D:\n",
    "        for can in Ck:\n",
    "            if can.issubset(tid):\n",
    "                if not ssCnt.has_key(can):\n",
    "                    ssCnt[can]=1\n",
    "                else:\n",
    "                    ssCnt[can] +=1\n",
    "    numItems = float(len(D))                    \n",
    "    retList = []\n",
    "    supportData = {}\n",
    "    for key in ssCnt:\n",
    "        support = ssCnt[key]/numItems\n",
    "        if support >= minSupport:\n",
    "            retList.insert(0, key)\n",
    "        supportData[key] = support\n",
    "        \n",
    "    return retList, supportData        "
   ]
  },
  {
   "cell_type": "code",
   "execution_count": 8,
   "metadata": {},
   "outputs": [
    {
     "name": "stdout",
     "output_type": "stream",
     "text": [
      "[[1, 3, 4], [2, 3, 5], [1, 2, 3, 5], [2, 5]]\n"
     ]
    }
   ],
   "source": [
    "dataSet = loadData()\n",
    "print dataSet\n"
   ]
  },
  {
   "cell_type": "code",
   "execution_count": 16,
   "metadata": {},
   "outputs": [
    {
     "name": "stdout",
     "output_type": "stream",
     "text": [
      "[frozenset([1]), frozenset([2]), frozenset([3]), frozenset([4]), frozenset([5])]\n"
     ]
    }
   ],
   "source": [
    "C1 = createC1(dataSet)\n",
    "print C1"
   ]
  },
  {
   "cell_type": "code",
   "execution_count": 19,
   "metadata": {},
   "outputs": [
    {
     "name": "stdout",
     "output_type": "stream",
     "text": [
      "[set([1, 3, 4]), set([2, 3, 5]), set([1, 2, 3, 5]), set([2, 5])]\n"
     ]
    }
   ],
   "source": [
    "D = map(set, dataSet)\n",
    "print D"
   ]
  },
  {
   "cell_type": "code",
   "execution_count": 23,
   "metadata": {},
   "outputs": [
    {
     "name": "stdout",
     "output_type": "stream",
     "text": [
      "('L1:', [frozenset([1]), frozenset([3]), frozenset([2]), frozenset([5])])\n",
      "('supportData0:', {frozenset([4]): 0.25, frozenset([5]): 0.75, frozenset([2]): 0.75, frozenset([3]): 0.75, frozenset([1]): 0.5})\n"
     ]
    }
   ],
   "source": [
    "L1, supportData0 = scanD(D, C1, 0.5)\n",
    "print('L1:', L1)\n",
    "print('supportData0:', supportData0)"
   ]
  },
  {
   "cell_type": "code",
   "execution_count": null,
   "metadata": {
    "collapsed": true
   },
   "outputs": [],
   "source": []
  },
  {
   "cell_type": "code",
   "execution_count": 24,
   "metadata": {
    "collapsed": true
   },
   "outputs": [],
   "source": [
    "def aprioriGen(Lk, k):\n",
    "    retList = []\n",
    "    lenLk = len(Lk)\n",
    "    for i in range(lenLk):\n",
    "        for j in range(i+1, lenLk):\n",
    "            L1 = list(Lk[i])[:k-2]\n",
    "            L2 = list(Lk[j])[:k-2]\n",
    "            L1.sort()\n",
    "            L2.sort()\n",
    "            if L1 == L2:\n",
    "                retList.append(Lk[i] | Lk[j])\n",
    "                \n",
    "    return  retList              \n",
    "    "
   ]
  },
  {
   "cell_type": "code",
   "execution_count": 27,
   "metadata": {},
   "outputs": [],
   "source": [
    "def apriori(dataSet, minSupport=0.5):\n",
    "    C1 = createC1(dataSet)\n",
    "    D = map(set,dataSet)\n",
    "    L1, supportData = scanD(D, C1, minSupport)\n",
    "    L = [L1]\n",
    "    k = 2\n",
    "    while (len(L[k-2]) > 0):\n",
    "        Ck = aprioriGen(L[k-2], k)\n",
    "        Lk, SupK = scanD(D, Ck, minSupport)\n",
    "        supportData.update(SupK)\n",
    "        L.append(Lk)\n",
    "        k +=1\n",
    "    return L, supportData     "
   ]
  },
  {
   "cell_type": "code",
   "execution_count": 29,
   "metadata": {},
   "outputs": [
    {
     "data": {
      "text/plain": [
       "[[frozenset({1}), frozenset({3}), frozenset({2}), frozenset({5})],\n",
       " [frozenset({1, 3}), frozenset({2, 5}), frozenset({2, 3}), frozenset({3, 5})],\n",
       " [frozenset({2, 3, 5})],\n",
       " []]"
      ]
     },
     "execution_count": 29,
     "metadata": {},
     "output_type": "execute_result"
    }
   ],
   "source": [
    "L, supportData = apriori(dataSet)\n",
    "L"
   ]
  },
  {
   "cell_type": "code",
   "execution_count": 31,
   "metadata": {},
   "outputs": [
    {
     "data": {
      "text/plain": [
       "[frozenset({1, 3}), frozenset({2, 5}), frozenset({2, 3}), frozenset({3, 5})]"
      ]
     },
     "execution_count": 31,
     "metadata": {},
     "output_type": "execute_result"
    }
   ],
   "source": [
    "L[1]"
   ]
  },
  {
   "cell_type": "code",
   "execution_count": 32,
   "metadata": {},
   "outputs": [
    {
     "data": {
      "text/plain": [
       "[frozenset({2, 3, 5})]"
      ]
     },
     "execution_count": 32,
     "metadata": {},
     "output_type": "execute_result"
    }
   ],
   "source": [
    "L[2]"
   ]
  },
  {
   "cell_type": "code",
   "execution_count": 33,
   "metadata": {},
   "outputs": [
    {
     "data": {
      "text/plain": [
       "[]"
      ]
     },
     "execution_count": 33,
     "metadata": {},
     "output_type": "execute_result"
    }
   ],
   "source": [
    "L[3]"
   ]
  },
  {
   "cell_type": "code",
   "execution_count": 34,
   "metadata": {},
   "outputs": [
    {
     "data": {
      "text/plain": [
       "[frozenset({1, 3}),\n",
       " frozenset({1, 2}),\n",
       " frozenset({1, 5}),\n",
       " frozenset({2, 3}),\n",
       " frozenset({3, 5}),\n",
       " frozenset({2, 5})]"
      ]
     },
     "execution_count": 34,
     "metadata": {},
     "output_type": "execute_result"
    }
   ],
   "source": [
    "aprioriGen(L[0], 2)"
   ]
  },
  {
   "cell_type": "code",
   "execution_count": 35,
   "metadata": {},
   "outputs": [
    {
     "data": {
      "text/plain": [
       "[[frozenset({3}), frozenset({2}), frozenset({5})], [frozenset({2, 5})], []]"
      ]
     },
     "execution_count": 35,
     "metadata": {},
     "output_type": "execute_result"
    }
   ],
   "source": [
    "L, supportData = apriori(dataSet, minSupport=0.7)\n",
    "L"
   ]
  },
  {
   "cell_type": "markdown",
   "metadata": {},
   "source": [
    "## 从频繁项中挖掘关联规则\n",
    "\n"
   ]
  },
  {
   "cell_type": "code",
   "execution_count": 39,
   "metadata": {
    "collapsed": true
   },
   "outputs": [],
   "source": [
    "def generateRules(L, supportData, minConf=0.7):\n",
    "    bigRuleList = []\n",
    "    for i in range(1, len(L)):\n",
    "        for freqSet in L[i]:\n",
    "            H1 = [frozenset([item]) for item in freqSet]\n",
    "            if(i > 1):\n",
    "                rulesFromConseq(freqSet, H1, supportData, bigRuleList, minConf)\n",
    "                \n",
    "            else:\n",
    "                calcConf(freqSet, H1, supportData, bigRuleList, minConf)\n",
    "                \n",
    "    return bigRuleList\n",
    "\n",
    "def calcConf(freqSet, H, supportData, br1, minConf=0.7):\n",
    "    pruneH = []\n",
    "    for conseq in H:\n",
    "        conf = supportData[freqSet]/supportData[freqSet-conseq]\n",
    "        if (conf >= minConf):\n",
    "            print(freqSet-conseq, '--->', conseq, 'conf:', conf)\n",
    "            br1.append((freqSet-conseq, conseq, conf))\n",
    "            pruneH.append(conseq)\n",
    "    return pruneH\n",
    "\n",
    "\n",
    "def rulesFromConseq(freqSet, H, supportData, br1, minConf=.7):\n",
    "    m = len(H[0])\n",
    "    if(len(freqSet) > (m+1)):\n",
    "        Hmp1 = aprioriGen(H, m+1)\n",
    "        Hmp1 = calcConf(freqSet, Hmp1, supportData, br1, minConf)\n",
    "        if(len(Hmp1) > 1):\n",
    "            rulesFromConseq(freqSet, Hmp1, supportData, br1, minConf)"
   ]
  },
  {
   "cell_type": "code",
   "execution_count": 43,
   "metadata": {},
   "outputs": [
    {
     "name": "stdout",
     "output_type": "stream",
     "text": [
      "(frozenset([1]), '--->', frozenset([3]), 'conf:', 1.0)\n",
      "(frozenset([5]), '--->', frozenset([2]), 'conf:', 1.0)\n",
      "(frozenset([2]), '--->', frozenset([5]), 'conf:', 1.0)\n"
     ]
    },
    {
     "data": {
      "text/plain": [
       "[(frozenset({1}), frozenset({3}), 1.0),\n",
       " (frozenset({5}), frozenset({2}), 1.0),\n",
       " (frozenset({2}), frozenset({5}), 1.0)]"
      ]
     },
     "execution_count": 43,
     "metadata": {},
     "output_type": "execute_result"
    }
   ],
   "source": [
    "L, supportData = apriori(dataSet, minSupport=0.5)\n",
    "rules = generateRules(L, supportData, minConf=0.7)\n",
    "rules"
   ]
  },
  {
   "cell_type": "code",
   "execution_count": 44,
   "metadata": {},
   "outputs": [
    {
     "name": "stdout",
     "output_type": "stream",
     "text": [
      "(frozenset([3]), '--->', frozenset([1]), 'conf:', 0.6666666666666666)\n",
      "(frozenset([1]), '--->', frozenset([3]), 'conf:', 1.0)\n",
      "(frozenset([5]), '--->', frozenset([2]), 'conf:', 1.0)\n",
      "(frozenset([2]), '--->', frozenset([5]), 'conf:', 1.0)\n",
      "(frozenset([3]), '--->', frozenset([2]), 'conf:', 0.6666666666666666)\n",
      "(frozenset([2]), '--->', frozenset([3]), 'conf:', 0.6666666666666666)\n",
      "(frozenset([5]), '--->', frozenset([3]), 'conf:', 0.6666666666666666)\n",
      "(frozenset([3]), '--->', frozenset([5]), 'conf:', 0.6666666666666666)\n",
      "(frozenset([5]), '--->', frozenset([2, 3]), 'conf:', 0.6666666666666666)\n",
      "(frozenset([3]), '--->', frozenset([2, 5]), 'conf:', 0.6666666666666666)\n",
      "(frozenset([2]), '--->', frozenset([3, 5]), 'conf:', 0.6666666666666666)\n"
     ]
    },
    {
     "data": {
      "text/plain": [
       "[(frozenset({3}), frozenset({1}), 0.6666666666666666),\n",
       " (frozenset({1}), frozenset({3}), 1.0),\n",
       " (frozenset({5}), frozenset({2}), 1.0),\n",
       " (frozenset({2}), frozenset({5}), 1.0),\n",
       " (frozenset({3}), frozenset({2}), 0.6666666666666666),\n",
       " (frozenset({2}), frozenset({3}), 0.6666666666666666),\n",
       " (frozenset({5}), frozenset({3}), 0.6666666666666666),\n",
       " (frozenset({3}), frozenset({5}), 0.6666666666666666),\n",
       " (frozenset({5}), frozenset({2, 3}), 0.6666666666666666),\n",
       " (frozenset({3}), frozenset({2, 5}), 0.6666666666666666),\n",
       " (frozenset({2}), frozenset({3, 5}), 0.6666666666666666)]"
      ]
     },
     "execution_count": 44,
     "metadata": {},
     "output_type": "execute_result"
    }
   ],
   "source": [
    "rules = generateRules(L, supportData, minConf=0.5)\n",
    "rules"
   ]
  },
  {
   "cell_type": "markdown",
   "metadata": {},
   "source": [
    "一旦降低可信度阀值，就可以获得更多的规则。"
   ]
  },
  {
   "cell_type": "code",
   "execution_count": null,
   "metadata": {
    "collapsed": true
   },
   "outputs": [],
   "source": []
  }
 ],
 "metadata": {
  "kernelspec": {
   "display_name": "Python 2",
   "language": "python",
   "name": "python2"
  },
  "language_info": {
   "codemirror_mode": {
    "name": "ipython",
    "version": 2
   },
   "file_extension": ".py",
   "mimetype": "text/x-python",
   "name": "python",
   "nbconvert_exporter": "python",
   "pygments_lexer": "ipython2",
   "version": "2.7.13"
  }
 },
 "nbformat": 4,
 "nbformat_minor": 2
}
