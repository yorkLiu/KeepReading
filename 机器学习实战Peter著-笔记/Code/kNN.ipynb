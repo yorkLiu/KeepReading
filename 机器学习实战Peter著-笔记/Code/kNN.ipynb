{
 "cells": [
  {
   "cell_type": "markdown",
   "metadata": {},
   "source": [
    "# K-近邻算法 （kNN）\n",
    "```\n",
    "K-近邻算法 (KNN)工作原理: 存在一个样本数据集合，也称作训练样本集，并且样本集中每个数据都存在标签，即我们知道样本集中第一数据与所属分类的对应关系。输入并没有标签的新数据后，将新的数据每个特征与样本集中数据对应的特征进行比较，然后算法提取样本集中特征相似数据(最近邻)的分类标签。一般来说，我们只选择样本数据休中前k个最相似的数据，这就是k-近邻算法的出处，通常k是不大于20的整数。\n",
    "```\n",
    "* 优点: 精度高，对异常值不敏感，无数据输入假定\n",
    "* 缺点: 计算复杂度高，空间复杂度高\n",
    "* 适用数据范围: 数值型和标称型\n",
    "\n",
    "### **Note:** `LaTex`数学公式语法请参见: \n",
    "* http://blog.csdn.net/GarfieldEr007/article/details/51646604\n",
    "* http://blog.csdn.net/u012501459/article/details/49617805\n",
    "* http://blog.csdn.net/qq_39232265/article/details/78868487\n",
    "* 在线生成 LaTex工具: http://latex.codecogs.com/eqneditor/editor.php\n",
    "\n",
    "## 距离计算公式\n",
    "* 1.欧氏距离公式\n",
    "> 欧氏距离是最易于理解的一种距离计算方法，源自欧氏空间中两点间的距离公式\n",
    "> 计算两个向量点 xA和xB之间的距离,数学公式为:\n",
    "> $$d = \\sqrt{(xA_0 - xB_0)^{2} + (xA_1 - xB_1)^{2}}$$\n",
    "  * I.E: 点 （0,0）与 (1,2)之间的距离为:\n",
    "  $$\\sqrt{(1-0)^{2} + (2-0)^{2}}$$\n",
    "  * 点(1,0,0,1) 与 (7,6,9,4)之间的距离为:\n",
    "  $$ \\sqrt{(7-1)^{2} - (6-0)^{2} - (9-0)^{2} - (4-1)^{2}} $$\n",
    "  \n",
    "* 2.曼哈顿距离\n",
    "> 从名字就可以猜出这种距离的计算方法了。想象你在曼哈顿要从一个十字路口开车到另外一个十字路口，驾驶距离是两点间的直线距离吗？显然不是，除非你能穿越大楼。实际驾驶距离就是这个“曼哈顿距离”。而这也是曼哈顿距离名称的来源， 曼哈顿距离也称为 **城市街区距离(City Block distance)**。\n",
    "> 1. 二维平面两点a(x1,y1)与b(x2,y2)间的曼哈顿距离\n",
    "> $$d12= |x_1 - x_2| + |y_1 - y_2|$$\n",
    "> 2. 两个n维向量a(x11,x12,…,x1n)与 b(x21,x22,…,x2n)间的曼哈顿距离\n",
    "> $$d12 = \\sum_{i}^{n} |x_1k - x_2k|$$\n",
    "* 3.信息熵\n",
    "  > 信息熵是衡量分布的混乱程度或分散程度的一种度量。分布越分散(或者说分布越平均)，信息熵就越大。分布越有序（或者说分布越集中），信息熵就越小。\n",
    "  > 计算给定的样本集X的信息熵的公式：\n",
    "  > $$Entropy(X) = \\sum_{i}^{n}-p_ilog_2p_i$$\n"
   ]
  },
  {
   "cell_type": "code",
   "execution_count": null,
   "metadata": {
    "collapsed": true
   },
   "outputs": [],
   "source": []
  },
  {
   "cell_type": "code",
   "execution_count": null,
   "metadata": {
    "collapsed": true
   },
   "outputs": [],
   "source": []
  }
 ],
 "metadata": {
  "kernelspec": {
   "display_name": "Python 2",
   "language": "python",
   "name": "python2"
  },
  "language_info": {
   "codemirror_mode": {
    "name": "ipython",
    "version": 2
   },
   "file_extension": ".py",
   "mimetype": "text/x-python",
   "name": "python",
   "nbconvert_exporter": "python",
   "pygments_lexer": "ipython2",
   "version": "2.7.13"
  }
 },
 "nbformat": 4,
 "nbformat_minor": 2
}
