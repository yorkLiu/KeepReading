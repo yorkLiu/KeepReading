{
 "cells": [
  {
   "cell_type": "markdown",
   "metadata": {},
   "source": [
    "# 推荐系统\n",
    "\n",
    "## 协同过滤\n",
    "* Item-Base\n",
    "* User-Base"
   ]
  },
  {
   "cell_type": "code",
   "execution_count": 1,
   "metadata": {
    "collapsed": true
   },
   "outputs": [],
   "source": [
    "critics = {\n",
    "    'Lisa Rose': {'Lady in the Water': 2.5, 'Snakes on a Plane': 3.5, 'Just My Luck': 3.0, 'Superman Returns': 3.5, 'Yor, Me and Dupree': 2.5, 'The Night Listener': 3.0},\n",
    "    'Gene Seymour': {'Lady in the Water': 3.0, 'Snakes on a Plane': 3.5, 'Just My Luck': 1.5, 'Superman Returns': 5.0, 'The Night Listener': 3.0, 'Yor, Me and Dupree': 3.5},\n",
    "    'Michale Phillips': {'Lady in the Water': 2.5, 'Snakes on a Plane': 3.0, 'Superman Returns': 3.5, 'The Night Listener': 4.0},\n",
    "    'Claudia Puig': {'Snakes on a Plane': 3.5, 'Just My Luck': 3.0, 'The Night Listener': 4.5, 'Superman Returns': 4.0, 'Yor, Me and Dupree': 2.5},\n",
    "    'Mick LaSalle': {'Lady in the Water': 3.0, 'Snakes on a Plane': 4.0, 'Just My Luck': 2.0, 'Superman Returns': 3.0, 'The Night Listener': 3.0, 'Yor, Me and Dupree': 2.0},\n",
    "    'Jack Matthews': {'Lady in the Water': 3.0, 'Snakes on a Plane': 4.0, 'The Night Listener': 3.0, 'Superman Returns': 5.0, 'Yor, Me and Dupree': 3.5},\n",
    "    'Toby': {'Snakes on a Plane': 4.5, 'Yor, Me and Dupree': 1.0, 'Superman Returns': 4.0}\n",
    "}"
   ]
  },
  {
   "cell_type": "code",
   "execution_count": 2,
   "metadata": {},
   "outputs": [
    {
     "data": {
      "text/plain": [
       "2.5"
      ]
     },
     "execution_count": 2,
     "metadata": {},
     "output_type": "execute_result"
    }
   ],
   "source": [
    "critics['Lisa Rose']['Lady in the Water']"
   ]
  },
  {
   "cell_type": "markdown",
   "metadata": {},
   "source": [
    "## 欧氏距离来计算相似度"
   ]
  },
  {
   "cell_type": "code",
   "execution_count": 9,
   "metadata": {
    "collapsed": true
   },
   "outputs": [],
   "source": [
    "from math import sqrt\n",
    "\n",
    "def sim_distance(prefs, person1, person2):\n",
    "    si = {}\n",
    "    for item in prefs[person1]:\n",
    "        if item in prefs[person2]:\n",
    "            si[item]=1\n",
    "            \n",
    "    if len(si) == 0:\n",
    "        return 0\n",
    "    \n",
    "    ## 用欧氏距离来计算\n",
    "    sum_of_squares = sum([pow((prefs[person1][item]-prefs[person2][item]),2) for item in prefs[person1] if item in prefs[person2]])\n",
    "    \n",
    "    return 1/(1+ sqrt(sum_of_squares))\n",
    "        "
   ]
  },
  {
   "cell_type": "code",
   "execution_count": 10,
   "metadata": {},
   "outputs": [
    {
     "data": {
      "text/plain": [
       "0.29429805508554946"
      ]
     },
     "execution_count": 10,
     "metadata": {},
     "output_type": "execute_result"
    }
   ],
   "source": [
    "sim_distance(critics,'Lisa Rose', 'Gene Seymour')"
   ]
  },
  {
   "cell_type": "markdown",
   "metadata": {},
   "source": [
    "## 找出与某个person 最相近的"
   ]
  },
  {
   "cell_type": "code",
   "execution_count": 39,
   "metadata": {},
   "outputs": [],
   "source": [
    "def find_most_clearly(prefs, person):\n",
    "    scores = []\n",
    "    most_clearly_person=None\n",
    "    print ('>>>>>>>>>>>Find \"%s\" the most clearly>>>>>>>>>>>' % person)\n",
    "    for key in prefs.keys():\n",
    "        if key != person:\n",
    "            score = sim_distance(critics, person, key)\n",
    "            scores.append(score)\n",
    "            most_clearly_person = key if max(scores) == score else most_clearly_person\n",
    "            \n",
    "            print('\"%s\" vs. \"%s\": %.8f' % (person, key, score))\n",
    "            \n",
    "    if len(scores) == 0:\n",
    "        return 0\n",
    "            \n",
    "    max_score = max(scores)\n",
    "    print('Vs.\"%s\" most clearly is \"%s\", clearly value is: %.8f' % (person, most_clearly_person, max_score))\n",
    "    return max_score"
   ]
  },
  {
   "cell_type": "code",
   "execution_count": 40,
   "metadata": {},
   "outputs": [
    {
     "name": "stdout",
     "output_type": "stream",
     "text": [
      ">>>>>>>>>>>Find \"Lisa Rose\" the most clearly>>>>>>>>>>>\n",
      "\"Lisa Rose\" vs. \"Jack Matthews\": 0.34054243\n",
      "\"Lisa Rose\" vs. \"Mick LaSalle\": 0.41421356\n",
      "\"Lisa Rose\" vs. \"Claudia Puig\": 0.38742589\n",
      "\"Lisa Rose\" vs. \"Toby\": 0.34833148\n",
      "\"Lisa Rose\" vs. \"Michale Phillips\": 0.47213595\n",
      "\"Lisa Rose\" vs. \"Gene Seymour\": 0.29429806\n",
      "Vs. \"Lisa Rose\" most clearly is \"Michale Phillips\", clearly value is: 0.47213595\n"
     ]
    },
    {
     "data": {
      "text/plain": [
       "0.4721359549995794"
      ]
     },
     "execution_count": 40,
     "metadata": {},
     "output_type": "execute_result"
    }
   ],
   "source": [
    "find_most_clearly(critics, 'Lisa Rose')"
   ]
  },
  {
   "cell_type": "code",
   "execution_count": 41,
   "metadata": {},
   "outputs": [
    {
     "name": "stdout",
     "output_type": "stream",
     "text": [
      ">>>>>>>>>>>Find \"Gene Seymour\" the most clearly>>>>>>>>>>>\n",
      "\"Gene Seymour\" vs. \"Jack Matthews\": 0.66666667\n",
      "\"Gene Seymour\" vs. \"Mick LaSalle\": 0.27792630\n",
      "\"Gene Seymour\" vs. \"Claudia Puig\": 0.28172905\n",
      "\"Gene Seymour\" vs. \"Lisa Rose\": 0.29429806\n",
      "\"Gene Seymour\" vs. \"Toby\": 0.25824570\n",
      "\"Gene Seymour\" vs. \"Michale Phillips\": 0.34054243\n",
      "Vs. \"Gene Seymour\" most clearly is \"Jack Matthews\", clearly value is: 0.66666667\n"
     ]
    },
    {
     "data": {
      "text/plain": [
       "0.6666666666666666"
      ]
     },
     "execution_count": 41,
     "metadata": {},
     "output_type": "execute_result"
    }
   ],
   "source": [
    "find_most_clearly(critics, 'Gene Seymour')"
   ]
  },
  {
   "cell_type": "code",
   "execution_count": 42,
   "metadata": {},
   "outputs": [
    {
     "name": "stdout",
     "output_type": "stream",
     "text": [
      ">>>>>>>>>>>Find \"Toby\" the most clearly>>>>>>>>>>>\n",
      "\"Toby\" vs. \"Jack Matthews\": 0.26747889\n",
      "\"Toby\" vs. \"Mick LaSalle\": 0.40000000\n",
      "\"Toby\" vs. \"Claudia Puig\": 0.35678917\n",
      "\"Toby\" vs. \"Lisa Rose\": 0.34833148\n",
      "\"Toby\" vs. \"Michale Phillips\": 0.38742589\n",
      "\"Toby\" vs. \"Gene Seymour\": 0.25824570\n",
      "Vs. \"Toby\" most clearly is \"Mick LaSalle\", clearly value is: 0.40000000\n"
     ]
    },
    {
     "data": {
      "text/plain": [
       "0.4"
      ]
     },
     "execution_count": 42,
     "metadata": {},
     "output_type": "execute_result"
    }
   ],
   "source": [
    "find_most_clearly(critics, 'Toby')"
   ]
  },
  {
   "cell_type": "markdown",
   "metadata": {},
   "source": [
    "# 皮尔逊相关度 来计算相似度\n",
    "皮尔逊相关度 首先要找出两个 person都评价过的物品，然后计算两者的评分总各与平方根, 并求得评分的乘积之和 "
   ]
  },
  {
   "cell_type": "code",
   "execution_count": 43,
   "metadata": {
    "collapsed": true
   },
   "outputs": [],
   "source": [
    "def sim_person(prefs, p1, p2):\n",
    "    si = {}\n",
    "    for item in prefs[p1]:\n",
    "        if item in prefs[p2]:\n",
    "            si[item]=1\n",
    "            \n",
    "    n = len(si)        \n",
    "    \n",
    "    if n == 0: return 0\n",
    "    \n",
    "    # 对所有的偏好求和\n",
    "    sum1 = sum([prefs[p1][it] for it in si])\n",
    "    sum2 = sum([prefs[p2][it] for it in si])\n",
    "    \n",
    "    # 求平方和\n",
    "    sum1Sq = sum([pow(prefs[p1][it],2) for it in si])\n",
    "    sum2Sq = sum([pow(prefs[p2][it],2) for it in si])\n",
    "    \n",
    "    # 求乘积之和\n",
    "    pSum = sum([prefs[p1][it]*prefs[p2][it] for it in si])\n",
    "    \n",
    "    # 求皮尔逊 评价值\n",
    "    num = pSum - (sum1*sum2/n)\n",
    "    den = sqrt((sum1Sq-pow(sum1,2)/n) * (sum2Sq - pow(sum2,2)/n))\n",
    "    if den == 0: return 0\n",
    "    \n",
    "    r = num/den\n",
    "    \n",
    "    return r"
   ]
  },
  {
   "cell_type": "code",
   "execution_count": 44,
   "metadata": {},
   "outputs": [
    {
     "data": {
      "text/plain": [
       "0.39605901719066977"
      ]
     },
     "execution_count": 44,
     "metadata": {},
     "output_type": "execute_result"
    }
   ],
   "source": [
    "sim_person(critics,'Lisa Rose', 'Gene Seymour')"
   ]
  },
  {
   "cell_type": "markdown",
   "metadata": {},
   "source": [
    "### 一个通用方法，根据指定人员与每个人进行相似度比较 "
   ]
  },
  {
   "cell_type": "code",
   "execution_count": 64,
   "metadata": {},
   "outputs": [],
   "source": [
    "def topMatches(prefs, person, n=5, similarity=sim_person):\n",
    "    scores = [(similarity(prefs, person, other),other) for other in prefs if other != person]\n",
    "    \n",
    "    scores.sort()\n",
    "    scores.reverse()\n",
    "    return scores[:n]"
   ]
  },
  {
   "cell_type": "code",
   "execution_count": 65,
   "metadata": {},
   "outputs": [
    {
     "data": {
      "text/plain": [
       "[(0.9912407071619299, 'Toby'),\n",
       " (0.7470178808339965, 'Jack Matthews'),\n",
       " (0.5940885257860044, 'Mick LaSalle'),\n",
       " (0.5669467095138396, 'Claudia Puig'),\n",
       " (0.40451991747794525, 'Michale Phillips')]"
      ]
     },
     "execution_count": 65,
     "metadata": {},
     "output_type": "execute_result"
    }
   ],
   "source": [
    "topMatches(critics, 'Lisa Rose')"
   ]
  },
  {
   "cell_type": "markdown",
   "metadata": {},
   "source": [
    "## 如何为用户推荐还没有看过的电影？\n",
    "从现有的用户看过的，且评分高的影片中推荐"
   ]
  },
  {
   "cell_type": "code",
   "execution_count": 71,
   "metadata": {
    "collapsed": true
   },
   "outputs": [],
   "source": [
    "# 利用所有他人评价值的加权平均，为某人提供建议\n",
    "def getRecommendations(prefs, person, similarity=sim_person):\n",
    "    totals = {}\n",
    "    simSums = {}\n",
    "    for other in prefs:\n",
    "        if other == person: \n",
    "            continue\n",
    "        sim = similarity(prefs, person, other)\n",
    "        \n",
    "        if sim<=0: continue\n",
    "        \n",
    "        for item in prefs[other]:\n",
    "            if item not in prefs[person] or prefs[person][item] == 0:\n",
    "                totals.setdefault(item, 0)\n",
    "                totals[item]+= prefs[other][item]*sim\n",
    "                \n",
    "                simSums.setdefault(item,0)\n",
    "                simSums[item]+=sim\n",
    "                \n",
    "    # create 一个 规一化列表\n",
    "    rankings = [(total/simSums[item], item) for item, total in totals.items()]\n",
    "    rankings.sort()\n",
    "    rankings.reverse()\n",
    "    \n",
    "    return rankings       "
   ]
  },
  {
   "cell_type": "code",
   "execution_count": 74,
   "metadata": {},
   "outputs": [
    {
     "name": "stdout",
     "output_type": "stream",
     "text": [
      "{'Snakes on a Plane': 4.5, 'Yor, Me and Dupree': 1.0, 'Superman Returns': 4.0}\n"
     ]
    },
    {
     "data": {
      "text/plain": [
       "[(3.3477895267131013, 'The Night Listener'),\n",
       " (2.8325499182641614, 'Lady in the Water'),\n",
       " (2.5309807037655645, 'Just My Luck')]"
      ]
     },
     "execution_count": 74,
     "metadata": {},
     "output_type": "execute_result"
    }
   ],
   "source": [
    "print critics['Toby']\n",
    "getRecommendations(critics, 'Toby')"
   ]
  },
  {
   "cell_type": "code",
   "execution_count": 85,
   "metadata": {},
   "outputs": [
    {
     "data": {
      "text/plain": [
       "[(3.4571286944914226, 'The Night Listener'),\n",
       " (2.778584003814923, 'Lady in the Water'),\n",
       " (2.4224820423619167, 'Just My Luck')]"
      ]
     },
     "execution_count": 85,
     "metadata": {},
     "output_type": "execute_result"
    }
   ],
   "source": [
    "getRecommendations(critics, 'Toby', similarity=sim_distance)"
   ]
  },
  {
   "cell_type": "code",
   "execution_count": 78,
   "metadata": {
    "collapsed": true
   },
   "outputs": [],
   "source": [
    "def transformPrefs(prefs):\n",
    "    results = {}\n",
    "    for person in prefs:\n",
    "        for item in prefs[person]:\n",
    "            results.setdefault(item,{})\n",
    "            \n",
    "            results[item][person]=prefs[person][item]\n",
    "            \n",
    "    return results"
   ]
  },
  {
   "cell_type": "code",
   "execution_count": 80,
   "metadata": {},
   "outputs": [
    {
     "data": {
      "text/plain": [
       "{'Just My Luck': {'Claudia Puig': 3.0,\n",
       "  'Gene Seymour': 1.5,\n",
       "  'Lisa Rose': 3.0,\n",
       "  'Mick LaSalle': 2.0},\n",
       " 'Lady in the Water': {'Gene Seymour': 3.0,\n",
       "  'Jack Matthews': 3.0,\n",
       "  'Lisa Rose': 2.5,\n",
       "  'Michale Phillips': 2.5,\n",
       "  'Mick LaSalle': 3.0},\n",
       " 'Snakes on a Plane': {'Claudia Puig': 3.5,\n",
       "  'Gene Seymour': 3.5,\n",
       "  'Jack Matthews': 4.0,\n",
       "  'Lisa Rose': 3.5,\n",
       "  'Michale Phillips': 3.0,\n",
       "  'Mick LaSalle': 4.0,\n",
       "  'Toby': 4.5},\n",
       " 'Superman Returns': {'Claudia Puig': 4.0,\n",
       "  'Gene Seymour': 5.0,\n",
       "  'Jack Matthews': 5.0,\n",
       "  'Lisa Rose': 3.5,\n",
       "  'Michale Phillips': 3.5,\n",
       "  'Mick LaSalle': 3.0,\n",
       "  'Toby': 4.0},\n",
       " 'The Night Listener': {'Claudia Puig': 4.5,\n",
       "  'Gene Seymour': 3.0,\n",
       "  'Jack Matthews': 3.0,\n",
       "  'Lisa Rose': 3.0,\n",
       "  'Michale Phillips': 4.0,\n",
       "  'Mick LaSalle': 3.0},\n",
       " 'Yor, Me and Dupree': {'Claudia Puig': 2.5,\n",
       "  'Gene Seymour': 3.5,\n",
       "  'Jack Matthews': 3.5,\n",
       "  'Lisa Rose': 2.5,\n",
       "  'Mick LaSalle': 2.0,\n",
       "  'Toby': 1.0}}"
      ]
     },
     "execution_count": 80,
     "metadata": {},
     "output_type": "execute_result"
    }
   ],
   "source": [
    "movies = transformPrefs(critics)\n",
    "movies"
   ]
  },
  {
   "cell_type": "markdown",
   "metadata": {},
   "source": [
    "以上结果便是 每部电影，用户的评分"
   ]
  },
  {
   "cell_type": "code",
   "execution_count": 81,
   "metadata": {},
   "outputs": [
    {
     "data": {
      "text/plain": [
       "[(0.5555555555555556, 'The Night Listener'),\n",
       " (-0.3333333333333333, 'Snakes on a Plane'),\n",
       " (-0.42289003161103106, 'Superman Returns'),\n",
       " (-0.4856618642571827, 'Yor, Me and Dupree'),\n",
       " (-0.9449111825230676, 'Lady in the Water')]"
      ]
     },
     "execution_count": 81,
     "metadata": {},
     "output_type": "execute_result"
    }
   ],
   "source": [
    "topMatches(movies, 'Just My Luck')"
   ]
  },
  {
   "cell_type": "code",
   "execution_count": 82,
   "metadata": {},
   "outputs": [
    {
     "data": {
      "text/plain": [
       "[(0.6579516949597695, 'Yor, Me and Dupree'),\n",
       " (0.4879500364742689, 'Lady in the Water'),\n",
       " (0.11180339887498941, 'Snakes on a Plane'),\n",
       " (-0.1798471947990544, 'The Night Listener'),\n",
       " (-0.42289003161103106, 'Just My Luck')]"
      ]
     },
     "execution_count": 82,
     "metadata": {},
     "output_type": "execute_result"
    }
   ],
   "source": [
    "topMatches(movies, 'Superman Returns')"
   ]
  },
  {
   "cell_type": "markdown",
   "metadata": {},
   "source": [
    "以上简单的代码便可实现，在用户购买一个商品时，为用户推荐 **买过该商品的用户也买/看过这些商品** 的推荐!"
   ]
  },
  {
   "cell_type": "markdown",
   "metadata": {},
   "source": [
    "# 基于 物品 的推荐 (Item-Base)"
   ]
  },
  {
   "cell_type": "code",
   "execution_count": 207,
   "metadata": {
    "collapsed": true
   },
   "outputs": [],
   "source": [
    "# 以下函数主要目的是为了生成数据集\n",
    "def caculateSimilarItems(prefs, n=10, printLogCount=100):\n",
    "    results = {}\n",
    "    itemPrefs = transformPrefs(prefs)\n",
    "    c=0\n",
    "    for item in itemPrefs:\n",
    "        c+=1\n",
    "        if c%printLogCount == 0:\n",
    "            print('%d / %d' %(c, len(itemPrefs)))\n",
    "        \n",
    "        # 寻找最为相近的物品\n",
    "        scores = topMatches(itemPrefs, item, n=n, similarity=sim_distance)\n",
    "        results[item] = scores\n",
    "        \n",
    "    return results    "
   ]
  },
  {
   "cell_type": "code",
   "execution_count": 86,
   "metadata": {},
   "outputs": [
    {
     "data": {
      "text/plain": [
       "{'Just My Luck': [(0.3483314773547883, 'Lady in the Water'),\n",
       "  (0.32037724101704074, 'Yor, Me and Dupree'),\n",
       "  (0.2989350844248255, 'The Night Listener'),\n",
       "  (0.2553967929896867, 'Snakes on a Plane'),\n",
       "  (0.20799159651347807, 'Superman Returns')],\n",
       " 'Lady in the Water': [(0.4494897427831781, 'Yor, Me and Dupree'),\n",
       "  (0.38742588672279304, 'The Night Listener'),\n",
       "  (0.3483314773547883, 'Snakes on a Plane'),\n",
       "  (0.3483314773547883, 'Just My Luck'),\n",
       "  (0.2402530733520421, 'Superman Returns')],\n",
       " 'Snakes on a Plane': [(0.3483314773547883, 'Lady in the Water'),\n",
       "  (0.32037724101704074, 'The Night Listener'),\n",
       "  (0.3090169943749474, 'Superman Returns'),\n",
       "  (0.2553967929896867, 'Just My Luck'),\n",
       "  (0.1886378647726465, 'Yor, Me and Dupree')],\n",
       " 'Superman Returns': [(0.3090169943749474, 'Snakes on a Plane'),\n",
       "  (0.252650308587072, 'The Night Listener'),\n",
       "  (0.2402530733520421, 'Lady in the Water'),\n",
       "  (0.20799159651347807, 'Just My Luck'),\n",
       "  (0.1918253663634734, 'Yor, Me and Dupree')],\n",
       " 'The Night Listener': [(0.38742588672279304, 'Lady in the Water'),\n",
       "  (0.32037724101704074, 'Snakes on a Plane'),\n",
       "  (0.2989350844248255, 'Just My Luck'),\n",
       "  (0.29429805508554946, 'Yor, Me and Dupree'),\n",
       "  (0.252650308587072, 'Superman Returns')],\n",
       " 'Yor, Me and Dupree': [(0.4494897427831781, 'Lady in the Water'),\n",
       "  (0.32037724101704074, 'Just My Luck'),\n",
       "  (0.29429805508554946, 'The Night Listener'),\n",
       "  (0.1918253663634734, 'Superman Returns'),\n",
       "  (0.1886378647726465, 'Snakes on a Plane')]}"
      ]
     },
     "execution_count": 86,
     "metadata": {},
     "output_type": "execute_result"
    }
   ],
   "source": [
    "itemSim = caculateSimilarItems(critics)\n",
    "itemSim"
   ]
  },
  {
   "cell_type": "code",
   "execution_count": 98,
   "metadata": {
    "collapsed": true
   },
   "outputs": [],
   "source": [
    "def getRecommendedItems(prefs, itemMatch, user):\n",
    "    userRatings = prefs[user]\n",
    "    scores = {}\n",
    "    totalSim = {}\n",
    "    for (item, rating) in userRatings.items():\n",
    "        for (similarity, item2) in itemMatch[item]:\n",
    "            if item2 in userRatings: continue\n",
    "                \n",
    "            # 评价值与相似度的加权之和    \n",
    "            scores.setdefault(item2, 0)\n",
    "            scores[item2]+=similarity * rating\n",
    "            \n",
    "            # 全部相似度之和\n",
    "            totalSim.setdefault(item2, 0)\n",
    "            totalSim[item2]+=similarity\n",
    "    \n",
    "    # 将每个合计值除以加权和，求出平均值\n",
    "    rankings = [(score/totalSim[item], item) for (item, score) in scores.items()]\n",
    "    \n",
    "    rankings.sort()\n",
    "    rankings.reverse()\n",
    "    return rankings"
   ]
  },
  {
   "cell_type": "code",
   "execution_count": 99,
   "metadata": {},
   "outputs": [
    {
     "data": {
      "text/plain": [
       "[(3.1667425234070894, 'The Night Listener'),\n",
       " (2.9366294028444346, 'Just My Luck'),\n",
       " (2.868767392626467, 'Lady in the Water')]"
      ]
     },
     "execution_count": 99,
     "metadata": {},
     "output_type": "execute_result"
    }
   ],
   "source": [
    "getRecommendedItems(critics, itemSim, 'Toby')"
   ]
  },
  {
   "cell_type": "markdown",
   "metadata": {},
   "source": [
    "# 使用 MoviveLens 数据集\n",
    "\n",
    "* MovieLens 数据集: https://grouplens.org/datasets/movielens/\n"
   ]
  },
  {
   "cell_type": "code",
   "execution_count": 163,
   "metadata": {
    "collapsed": true
   },
   "outputs": [],
   "source": [
    "import pandas as pd"
   ]
  },
  {
   "cell_type": "code",
   "execution_count": 178,
   "metadata": {
    "collapsed": true
   },
   "outputs": [],
   "source": [
    "def loadMovieLens(path='data/MovieLens/'):\n",
    "    movies = {}\n",
    "    moviesData = pd.read_csv(path +'movies.csv')\n",
    "    for i in range(moviesData.shape[0]):\n",
    "        movie = moviesData.iloc[i:i+1]\n",
    "        movies[movie['movieId'].values[0]] = movie['title'].values[0]\n",
    "    \n",
    "    prefs={}\n",
    "    ratingsData = pd.read_csv('data/MovieLens/ratings.csv')\n",
    "    for i in range(ratingsData.shape[0]):\n",
    "        ratingD = ratingsData.iloc[i:i+1]\n",
    "        user = str(ratingD['userId'].values[0])\n",
    "        movieId=ratingD['movieId'].values[0]\n",
    "        rating = ratingD['rating'].values[0]\n",
    "        prefs.setdefault(user, {})\n",
    "        prefs[user][movies[movieId]] = float(rating)\n",
    "        \n",
    "    return  prefs  "
   ]
  },
  {
   "cell_type": "code",
   "execution_count": 179,
   "metadata": {},
   "outputs": [],
   "source": [
    "moviePrefs = loadMovieLens()"
   ]
  },
  {
   "cell_type": "code",
   "execution_count": 181,
   "metadata": {},
   "outputs": [
    {
     "data": {
      "text/plain": [
       "[(5.0, 'Wrong Cops (2013)'),\n",
       " (5.0, 'Wrong (2012)'),\n",
       " (5.0, 'Wolf Children (Okami kodomo no ame to yuki) (2012)'),\n",
       " (5.0, 'Without a Clue (1988)'),\n",
       " (5.0, 'Wish Upon a Star (1996)'),\n",
       " (5.0, 'Willie & Phil (1980)'),\n",
       " (5.0, 'White Sound, The (Das wei\\xc3\\x9fe Rauschen) (2001)'),\n",
       " (5.0, 'When Night Is Falling (1995)'),\n",
       " (5.0, 'Waltz with Bashir (Vals im Bashir) (2008)'),\n",
       " (5.0, 'Waiter (Ober) (2006)')]"
      ]
     },
     "execution_count": 181,
     "metadata": {},
     "output_type": "execute_result"
    }
   ],
   "source": [
    "# 基于用户推荐\n",
    "# moviePrefs['87']\n",
    "#moviePrefs.items()[0:10]\n",
    "getRecommendations(moviePrefs, '87')[0:10]"
   ]
  },
  {
   "cell_type": "code",
   "execution_count": 208,
   "metadata": {},
   "outputs": [
    {
     "name": "stdout",
     "output_type": "stream",
     "text": [
      "1000 / 9064\n",
      "2000 / 9064\n",
      "3000 / 9064\n",
      "4000 / 9064\n",
      "5000 / 9064\n",
      "6000 / 9064\n",
      "7000 / 9064\n",
      "8000 / 9064\n",
      "9000 / 9064\n",
      "[(5.0, 'xXx (2002)'), (5.0, 'loudQUIETloud: A Film About the Pixies (2006)'), (5.0, 'Zombieland (2009)'), (5.0, 'Zodiac (2007)'), (5.0, 'Zenon: Z3 (2004)'), (5.0, 'Zenon: The Zequel (2001)'), (5.0, 'Zenon: Girl of the 21st Century (1999)'), (5.0, 'Young People Fucking (a.k.a. YPF) (2007)'), (5.0, 'Yossi & Jagger (2002)'), (5.0, 'Wrong Cops (2013)')]\n",
      "Spent 249 seconds\n"
     ]
    }
   ],
   "source": [
    "import datetime\n",
    "starTime = datetime.datetime.now()\n",
    "itemSim = caculateSimilarItems(moviePrefs,printLogCount=1000)\n",
    "print (getRecommendedItems(moviePrefs,itemSim,'87')[0:10])\n",
    "print ('Spent %d seconds' % (datetime.datetime.now() - starTime).total_seconds())"
   ]
  },
  {
   "cell_type": "markdown",
   "metadata": {},
   "source": [
    "从上面可以看到，**基于物品过滤**所花费的时间还是比较长的，但只要计算出了 **物品的相似度**以后，`getRecommendedItems` 方法基本上是和很快就可以出结果!"
   ]
  },
  {
   "cell_type": "code",
   "execution_count": 209,
   "metadata": {},
   "outputs": [
    {
     "name": "stdout",
     "output_type": "stream",
     "text": [
      "[(5.0, 'Yes Man (2008)'), (5.0, 'Win/win (2010)'), (5.0, 'Wife, The (1995)'), (4.5, 'Yu-Gi-Oh! (2004)'), (4.5, 'Young Guns II (1990)'), (4.5, \"World's Fastest Indian, The (2005)\"), (4.5, 'Wonder Boys (2000)'), (4.5, 'Wolf Children (Okami kodomo no ame to yuki) (2012)'), (4.5, 'Wizard of Oz, The (1939)'), (4.5, 'Witless Protection (2008)')]\n"
     ]
    }
   ],
   "source": [
    "print (getRecommendedItems(moviePrefs,itemSim,'3')[0:10])"
   ]
  },
  {
   "cell_type": "code",
   "execution_count": 210,
   "metadata": {},
   "outputs": [
    {
     "name": "stdout",
     "output_type": "stream",
     "text": [
      "[(5.0, 'Wings of Hope (Julianes Sturz in den Dschungel) (2000)'), (5.0, 'Win/win (2010)'), (5.0, 'Willie & Phil (1980)'), (5.0, 'Wife, The (1995)'), (4.75, 'Witchfinder General (Conquerer Worm, The) (1968)'), (4.5, 'loudQUIETloud: A Film About the Pixies (2006)'), (4.5, 'Zootopia (2016)'), (4.5, 'Zoolander 2 (2016)'), (4.5, 'Zatoichi on the Road (Zat\\xc3\\xb4ichi kenka-tabi) (Zat\\xc3\\xb4ichi 5) (1963)'), (4.5, 'Young People Fucking (a.k.a. YPF) (2007)')]\n"
     ]
    }
   ],
   "source": [
    "print (getRecommendedItems(moviePrefs,itemSim,'140')[0:10])"
   ]
  },
  {
   "cell_type": "markdown",
   "metadata": {},
   "source": [
    "## 基于用户的协同过滤还是基于物品的协同过滤?\n",
    "\n",
    "在针对**大数据集**生成推荐列表时，**Item-Base** 的方式明显要经 **User-Base**更快，只不过它的确有维护物品相似度表的额外开销。\n",
    "对于 **稀疏数据集**，**Item-Base** 通常要 **优于**  **User-Base**，而对于密集数据集而言，两者的效果几乎是一样的。\n",
    "尽管如些，**User-Base**的方法更易于实现，且无需额外步骤，因此通常更适用于规模较小且变化非常频繁的内存数据集。\n"
   ]
  },
  {
   "cell_type": "code",
   "execution_count": null,
   "metadata": {
    "collapsed": true
   },
   "outputs": [],
   "source": []
  }
 ],
 "metadata": {
  "kernelspec": {
   "display_name": "Python 2",
   "language": "python",
   "name": "python2"
  },
  "language_info": {
   "codemirror_mode": {
    "name": "ipython",
    "version": 2
   },
   "file_extension": ".py",
   "mimetype": "text/x-python",
   "name": "python",
   "nbconvert_exporter": "python",
   "pygments_lexer": "ipython2",
   "version": "2.7.13"
  }
 },
 "nbformat": 4,
 "nbformat_minor": 2
}
